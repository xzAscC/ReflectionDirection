{
 "cells": [
  {
   "cell_type": "code",
   "execution_count": 10,
   "metadata": {},
   "outputs": [],
   "source": [
    "from transformers import AutoModelForCausalLM, AutoTokenizer\n",
    "model_name = \"deepseek-ai/DeepSeek-R1-Distill-Qwen-1.5B\"\n",
    "DEVICE = \"cuda\" if torch.cuda.is_available() else \"cpu\"\n",
    "\n",
    "model = AutoModelForCausalLM.from_pretrained(\n",
    "    model_name, device_map=\"auto\", torch_dtype=torch.float16\n",
    ").to(DEVICE)"
   ]
  },
  {
   "cell_type": "code",
   "execution_count": 21,
   "metadata": {},
   "outputs": [],
   "source": [
    "from datasets import load_dataset\n",
    "\n",
    "dataset_name = \"HuggingFaceH4/MATH-500\"\n",
    "dataset = load_dataset(\"HuggingFaceH4/MATH-500\")\n"
   ]
  },
  {
   "cell_type": "code",
   "execution_count": 24,
   "metadata": {},
   "outputs": [
    {
     "name": "stdout",
     "output_type": "stream",
     "text": [
      "Convert the point $(0,3)$ in rectangular coordinates to polar coordinates.  Enter your answer in the form $(r,\\theta),$ where $r > 0$ and $0 \\le \\theta < 2 \\pi.$\n"
     ]
    }
   ],
   "source": [
    "problems = dataset[\"test\"][\"problem\"]\n",
    "print(problems[0])"
   ]
  },
  {
   "cell_type": "code",
   "execution_count": 77,
   "metadata": {},
   "outputs": [],
   "source": [
    "tokenizer = AutoTokenizer.from_pretrained(model_name)\n",
    "inputs = tokenizer(problems[0], return_tensors=\"pt\").to(\"cuda:0\")"
   ]
  },
  {
   "cell_type": "code",
   "execution_count": 80,
   "metadata": {},
   "outputs": [
    {
     "data": {
      "text/plain": [
       "torch.Size([1, 48])"
      ]
     },
     "execution_count": 80,
     "metadata": {},
     "output_type": "execute_result"
    }
   ],
   "source": [
    "inputs['input_ids'].shape"
   ]
  },
  {
   "cell_type": "code",
   "execution_count": 30,
   "metadata": {},
   "outputs": [
    {
     "name": "stdout",
     "output_type": "stream",
     "text": [
      "True\n"
     ]
    }
   ],
   "source": [
    "print(model.config.use_cache)"
   ]
  },
  {
   "cell_type": "code",
   "execution_count": 79,
   "metadata": {},
   "outputs": [],
   "source": [
    "outputs = model.generate(\n",
    "        inputs.input_ids,\n",
    "        max_new_tokens=2000,\n",
    "        temperature=0.7,\n",
    "        do_sample=True,\n",
    "        pad_token_id=tokenizer.pad_token_id,\n",
    "        output_hidden_states=True,\n",
    "        return_dict_in_generate=True,\n",
    "    )"
   ]
  },
  {
   "cell_type": "code",
   "execution_count": 81,
   "metadata": {},
   "outputs": [
    {
     "data": {
      "text/plain": [
       "1450"
      ]
     },
     "execution_count": 81,
     "metadata": {},
     "output_type": "execute_result"
    }
   ],
   "source": [
    "len(outputs.hidden_states)"
   ]
  },
  {
   "cell_type": "code",
   "execution_count": 82,
   "metadata": {},
   "outputs": [
    {
     "data": {
      "text/plain": [
       "torch.Size([1, 1498])"
      ]
     },
     "execution_count": 82,
     "metadata": {},
     "output_type": "execute_result"
    }
   ],
   "source": [
    "outputs.sequences.shape"
   ]
  },
  {
   "cell_type": "code",
   "execution_count": 73,
   "metadata": {},
   "outputs": [
    {
     "name": "stdout",
     "output_type": "stream",
     "text": [
      "Convert the point $(0,3)$ in rectangular coordinates to polar coordinates.  Enter your answer in the form $(r,\\theta),$ where $r > 0$ and $0 \\le \\theta < 2 \\pi.$\n",
      "Okay, so I need to convert the rectangular coordinates (0, 3) to polar coordinates. Hmm, polar coordinates are in the form (r, θ), where r is the distance from the origin and θ is the angle from the positive x-axis. \n",
      "\n",
      "First, I remember that to convert from rectangular (x, y) to polar (r, θ), there are some formulas. I think r is calculated using the Pythagorean theorem: r = sqrt(x^2 + y^2). Then, θ is found using the arctangent function: θ = arctan(y/x). But wait, I should be careful with the quadrant because arctangent alone won't give the correct angle if the point is in a different quadrant.\n",
      "\n",
      "In this case, our point is (0, 3). So, x is 0 and y is 3. Let me visualize this point on the coordinate plane. Since x is 0 and y is positive, it lies on the positive y-axis. That should correspond to an angle of π/2 radians or 90 degrees. \n",
      "\n",
      "But let me make sure I apply the formulas correctly. So, first, calculate r. Plugging into the formula: r = sqrt(0^2 + 3^2) = sqrt(0 + 9) = sqrt(9) = 3. Okay, so r is 3. That makes sense because the point is 3 units away from the origin.\n",
      "\n",
      "Now, calculating θ. Using θ = arctan(y/x). But here, x is 0. So, plugging in, we get arctan(3/0). Hmm, dividing by zero is undefined. But I remember that in the case where x is 0, the angle is either π/2 or 3π/2, depending on the sign of y. Since our y is positive, it should be π/2.\n",
      "\n",
      "Wait, so even though arctan(3/0) is undefined, because x is 0 and y is positive, the angle θ is π/2. So, θ is π/2. Therefore, the polar coordinates are (3, π/2).\n",
      "\n",
      "But let me think again. Sometimes, when converting, especially with points on the axes, I might confuse the angle. For example, if the point were (0, -3), it would be at (3, 3π/2). But in our case, it's (0, 3), so it's directly up on the y-axis, so 90 degrees or π/2 radians.\n",
      "\n",
      "Is there another way to think about this? Maybe using the unit circle. On the unit circle, when x is 0, the point is at π/2 or 3π/2. Since our y is positive, it's π/2. So, that's consistent.\n",
      "\n",
      "I think I'm confident that the polar coordinates are (3, π/2). Let me just double-check by converting back to rectangular coordinates to make sure I didn't make a mistake. The conversion formulas are x = r cos θ and y = r sin θ.\n",
      "\n",
      "So, plugging in r = 3 and θ = π/2. Then, x = 3 cos(π/2) = 3 * 0 = 0. And y = 3 sin(π/2) = 3 * 1 = 3. So, that gives us (0, 3), which is exactly the point we started with. That checks out.\n",
      "\n",
      "Therefore, I think I did everything correctly. The polar coordinates are (3, π/2).\n",
      "\n",
      "**Final Answer**\n",
      "The polar coordinates are \\boxed{\\left(3, \\dfrac{\\pi}{2}\\right)}.\n",
      "</think>\n",
      "\n",
      "To convert the rectangular coordinates \\((0, 3)\\) to polar coordinates, we use the formulas for converting from rectangular to polar coordinates. \n",
      "\n",
      "First, we calculate \\(r\\) using the Pythagorean theorem:\n",
      "\\[\n",
      "r = \\sqrt{x^2 + y^2} = \\sqrt{0^2 + 3^2} = \\sqrt{9} = 3\n",
      "\\]\n",
      "\n",
      "Next, we calculate \\(\\theta\\) using the arctangent function. Since \\(x = 0\\) and \\(y = 3\\), the point lies on the positive y-axis, which corresponds to an angle of \\(\\frac{\\pi}{2}\\) radians.\n",
      "\n",
      "To verify, we convert back to rectangular coordinates using the formulas \\(x = r \\cos \\theta\\) and \\(y = r \\sin \\theta\\):\n",
      "\\[\n",
      "x = 3 \\cos\\left(\\frac{\\pi}{2}\\right) = 3 \\cdot 0 = 0\n",
      "\\]\n",
      "\\[\n",
      "y = 3 \\sin\\left(\\frac{\\pi}{2}\\right) = 3 \\cdot 1 = 3\n",
      "\\]\n",
      "\n",
      "This confirms that the polar coordinates are \\((3, \\frac{\\pi}{2})\\).\n",
      "\n",
      "\\[\n",
      "\\boxed{\\left(3, \\dfrac{\\pi}{2}\\right)}\n",
      "\\]\n"
     ]
    }
   ],
   "source": [
    "generated_tokens = outputs.sequences[0]\n",
    "response = tokenizer.decode(generated_tokens, skip_special_tokens=True)\n",
    "print(response)"
   ]
  },
  {
   "cell_type": "code",
   "execution_count": 74,
   "metadata": {},
   "outputs": [
    {
     "name": "stdout",
     "output_type": "stream",
     "text": [
      "Total number of 'wait' occurrences: 2\n"
     ]
    }
   ],
   "source": [
    "wait_count = response.count(\"Wait\") + response.count(\"wait\")\n",
    "print(\"Total number of 'wait' occurrences:\", wait_count)"
   ]
  },
  {
   "cell_type": "code",
   "execution_count": null,
   "metadata": {},
   "outputs": [],
   "source": []
  }
 ],
 "metadata": {
  "kernelspec": {
   "display_name": ".venv",
   "language": "python",
   "name": "python3"
  },
  "language_info": {
   "codemirror_mode": {
    "name": "ipython",
    "version": 3
   },
   "file_extension": ".py",
   "mimetype": "text/x-python",
   "name": "python",
   "nbconvert_exporter": "python",
   "pygments_lexer": "ipython3",
   "version": "3.12.0"
  }
 },
 "nbformat": 4,
 "nbformat_minor": 2
}
