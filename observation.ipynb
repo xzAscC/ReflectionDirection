{
 "cells": [
  {
   "cell_type": "code",
   "execution_count": 1,
   "metadata": {},
   "outputs": [],
   "source": [
    "import os\n",
    "import re\n",
    "import json\n",
    "import torch\n",
    "import seaborn as sns\n",
    "import matplotlib.pyplot as plt\n",
    "from tqdm import tqdm\n",
    "from transformers import AutoModelForCausalLM, AutoTokenizer\n",
    "from typing import List\n",
    "from collections import Counter"
   ]
  },
  {
   "cell_type": "code",
   "execution_count": 19,
   "metadata": {},
   "outputs": [],
   "source": [
    "# extract the keywords list from the response\n",
    "def extract_keywords(\n",
    "    keywords_list: List[str] = [\n",
    "        \"wait\",\n",
    "        \"re-check\",\n",
    "        \"recheck\",\n",
    "        \"rethink\",\n",
    "        \"re-think\",\n",
    "        \"reconsider\",\n",
    "        \"re-consider\",\n",
    "        \"re-evaluat\",\n",
    "        \"reevaluat\",\n",
    "        \"rethink\",\n",
    "        \"re-think\",\n",
    "        \"re-examine\",\n",
    "        \"reexamine\",\n",
    "        \"check again\",\n",
    "        \"try again\",\n",
    "        \"think again\",\n",
    "        \"consider again\",\n",
    "        \"evaluate again\",\n",
    "        \"examine again\",\n",
    "    ],\n",
    "    response_dir: str = \"./reflect_responses\",\n",
    "):\n",
    "    \"\"\"\n",
    "    Extracts keywords from responses stored in JSON files within the specified directory.\n",
    "\n",
    "    Args:\n",
    "        keywords_list (List[str], optional): A list of keywords to search for in the responses.\n",
    "            Defaults to [\n",
    "                \"wait\", \"re-check\", \"recheck\", \"rethink\", \"re-think\", \"reconsider\",\n",
    "                \"re-consider\", \"re-evaluat\", \"reevaluat\", \"rethink\", \"re-think\",\n",
    "                \"re-examine\", \"reexamine\", \"check again\", \"try again\", \"think again\",\n",
    "                \"consider again\", \"evaluate again\", \"examine again\",\n",
    "            ].\n",
    "        response_dir (str, optional): The directory containing JSON response files.\n",
    "            Defaults to \"./reflect_responses\".\n",
    "\n",
    "    Returns:\n",
    "        dict: A dictionary where keys are keywords and values are their respective counts\n",
    "            in the responses.\n",
    "    \"\"\"\n",
    "    # most keywords only appear in responses containing the word \"wait\"\n",
    "    # Moreover, we observe that the majority of these instances involve the word \"wait\" preceding other keywords.\n",
    "    # Furthermore, nearly all identified keywords co-occur with the word \"wait\" within the same sentence.\n",
    "    keywords = []\n",
    "    first_occurrence = []\n",
    "    first_occurrence_this_sentence = []\n",
    "    first_occurrence_wo_wait = []\n",
    "    last_sentence_flag = False\n",
    "    for idx, response_file in enumerate(tqdm(os.listdir(response_dir))):\n",
    "        with open(os.path.join(response_dir, response_file), \"r\") as f:\n",
    "            response = json.load(f)[\"response\"]\n",
    "            sentences = re.split(r\"(?<=[.!?:])\\s+\", response)\n",
    "            for idy, sentence in enumerate(sentences):\n",
    "                this_sentence_flag = False\n",
    "                for keyword in keywords_list:\n",
    "                    if keyword in sentence.lower():\n",
    "                        keywords.append(keyword)\n",
    "                        # print(sentences[idy-2: idy+2])\n",
    "                        if not this_sentence_flag:\n",
    "                            this_sentence_flag = True\n",
    "                            first_occurrence_this_sentence.append(keyword)\n",
    "                            if not last_sentence_flag:\n",
    "                                first_occurrence.append(keyword)\n",
    "                            if idy > 0 and \"wait\" not in sentences[idy - 1].lower():\n",
    "                                first_occurrence_wo_wait.append(keyword)\n",
    "                last_sentence_flag = this_sentence_flag\n",
    "\n",
    "    return (\n",
    "        dict(Counter(keywords)),\n",
    "        # dict(Counter(first_occurrence)),\n",
    "        # dict(Counter(first_occurrence_wo_wait)),\n",
    "        # dict(Counter(first_occurrence_this_sentence)),\n",
    "    )\n"
   ]
  },
  {
   "cell_type": "code",
   "execution_count": 18,
   "metadata": {},
   "outputs": [
    {
     "name": "stderr",
     "output_type": "stream",
     "text": [
      "100%|██████████| 306/306 [00:00<00:00, 7179.90it/s]\n"
     ]
    },
    {
     "data": {
      "text/plain": [
       "({'wait': 887,\n",
       "  'think again': 23,\n",
       "  'check again': 8,\n",
       "  're-examine': 6,\n",
       "  'reconsider': 3,\n",
       "  'try again': 1},\n",
       " {'wait': 825,\n",
       "  'check again': 5,\n",
       "  'think again': 8,\n",
       "  'reconsider': 3,\n",
       "  'try again': 1})"
      ]
     },
     "execution_count": 18,
     "metadata": {},
     "output_type": "execute_result"
    }
   ],
   "source": [
    "extract_keywords()"
   ]
  },
  {
   "cell_type": "code",
   "execution_count": 20,
   "metadata": {},
   "outputs": [
    {
     "name": "stderr",
     "output_type": "stream",
     "text": [
      "100%|██████████| 194/194 [00:00<00:00, 11501.31it/s]\n"
     ]
    },
    {
     "data": {
      "text/plain": [
       "({'re-examine': 1},)"
      ]
     },
     "execution_count": 20,
     "metadata": {},
     "output_type": "execute_result"
    }
   ],
   "source": [
    "extract_keywords(response_dir=\"./responses\")"
   ]
  },
  {
   "cell_type": "code",
   "execution_count": 21,
   "metadata": {},
   "outputs": [
    {
     "name": "stderr",
     "output_type": "stream",
     "text": [
      "100%|██████████| 500/500 [00:00<00:00, 7114.44it/s]\n"
     ]
    },
    {
     "data": {
      "text/plain": [
       "({'wait': 11682,\n",
       "  'think again': 193,\n",
       "  'reconsider': 37,\n",
       "  'check again': 64,\n",
       "  're-examine': 14,\n",
       "  'try again': 12,\n",
       "  'recheck': 3,\n",
       "  'rethink': 6},)"
      ]
     },
     "execution_count": 21,
     "metadata": {},
     "output_type": "execute_result"
    }
   ],
   "source": [
    "extract_keywords(response_dir=\"./icv\")"
   ]
  },
  {
   "cell_type": "code",
   "execution_count": 22,
   "metadata": {},
   "outputs": [
    {
     "name": "stderr",
     "output_type": "stream",
     "text": [
      "100%|██████████| 500/500 [00:00<00:00, 7390.30it/s]\n"
     ]
    },
    {
     "data": {
      "text/plain": [
       "({'wait': 974,\n",
       "  'think again': 21,\n",
       "  're-examine': 7,\n",
       "  'check again': 5,\n",
       "  'reconsider': 4,\n",
       "  'reevaluat': 1,\n",
       "  'recheck': 1,\n",
       "  're-evaluat': 4},)"
      ]
     },
     "execution_count": 22,
     "metadata": {},
     "output_type": "execute_result"
    }
   ],
   "source": [
    "extract_keywords(response_dir=\"./icv_pca\")"
   ]
  },
  {
   "cell_type": "code",
   "execution_count": 25,
   "metadata": {},
   "outputs": [],
   "source": [
    "def extract_token_before_wait(\n",
    "    response_dir: str = \"./reflect_responses\",\n",
    "    hidden_state_dir: str = \"./hidden_state\",\n",
    "    model_name: str = \"deepseek-ai/DeepSeek-R1-Distill-Qwen-7B\",\n",
    "):\n",
    "    tokenizer = AutoTokenizer.from_pretrained(model_name)\n",
    "    last_token_before_wait = []\n",
    "    last_token_before_wo_wait = []\n",
    "    for idx, path in enumerate(tqdm(os.listdir(response_dir))):\n",
    "        with open(os.path.join(response_dir, path), \"r\") as f:\n",
    "            response = json.load(f)\n",
    "        # hidden_states = torch.load(\n",
    "        #     os.path.join(hidden_state_dir, path.split(\".\")[0] + \".pt\")\n",
    "        # )\n",
    "        input_ids = tokenizer(response[\"response\"], return_tensors=\"pt\")[\n",
    "            \"input_ids\"\n",
    "        ].to(\"cuda:0\")\n",
    "        # problem_length = tokenizer(response[\"problem\"], return_tensors=\"pt\")[\n",
    "        #     \"input_ids\"\n",
    "        # ].shape[1]\n",
    "        # input_length = input_ids.shape[1]\n",
    "        wait_word = [\"wait\", \"Wait\", \" wait\", \" Wait\"]\n",
    "        wait_list = []\n",
    "        for word in wait_word:\n",
    "            wait_list.append(\n",
    "                tokenizer(word, return_tensors=\"pt\")[\"input_ids\"][0][1].item()\n",
    "            )\n",
    "        indices = []\n",
    "        for word in wait_list:\n",
    "            index = (input_ids[0] == word).nonzero().squeeze()\n",
    "            if index.dim() == 0:  # if it's a scalar, add a dimension\n",
    "                index = index.unsqueeze(0)\n",
    "            indices.append(index)\n",
    "        res = torch.cat(indices)\n",
    "        last_token_before_wait.extend(input_ids[0][res - 1].tolist())\n",
    "    last_token_before_wait_length = len(last_token_before_wait)\n",
    "    last_token_before_wait_dict = dict(Counter(last_token_before_wait))\n",
    "    last_token_before_wait_dict = dict(\n",
    "        sorted(\n",
    "            last_token_before_wait_dict.items(), key=lambda item: item[1], reverse=True\n",
    "        )\n",
    "    )\n",
    "    # Tokenize the keys in last_token_before_wait_dict\n",
    "    last_token_before_wait_dict_tokenized = {\n",
    "        tokenizer.decode([key]): value\n",
    "        for key, value in last_token_before_wait_dict.items()\n",
    "    }\n",
    "    return last_token_before_wait_dict_tokenized\n"
   ]
  },
  {
   "cell_type": "code",
   "execution_count": 26,
   "metadata": {},
   "outputs": [
    {
     "name": "stderr",
     "output_type": "stream",
     "text": [
      "100%|██████████| 306/306 [00:00<00:00, 590.89it/s]\n"
     ]
    },
    {
     "data": {
      "text/plain": [
       "{'.\\n\\n': 396,\n",
       " 'But': 89,\n",
       " '.': 89,\n",
       " '?': 44,\n",
       " '?\\n\\n': 43,\n",
       " '\\n\\n': 32,\n",
       " ' But': 32,\n",
       " ').\\n\\n': 29,\n",
       " ' \\n\\n': 27,\n",
       " ').': 20,\n",
       " ')\\n\\n': 18,\n",
       " ',': 16,\n",
       " ']\\n\\n': 16,\n",
       " ']\\n': 5,\n",
       " ' but': 5,\n",
       " '].\\n\\n': 3,\n",
       " ':\\n\\n': 3,\n",
       " '  \\n\\n': 2,\n",
       " '%.\\n\\n': 2,\n",
       " '}\\n\\n': 2,\n",
       " '.\"\\n\\n': 2,\n",
       " '!.\\n\\n': 2,\n",
       " '):\\n\\n': 1,\n",
       " ' ]\\n\\n': 1,\n",
       " '$\\n\\n': 1,\n",
       " '…': 1,\n",
       " '$.': 1,\n",
       " '\\n': 1,\n",
       " ')).': 1,\n",
       " '**\\n\\n': 1,\n",
       " '.\"': 1,\n",
       " ')?': 1,\n",
       " '):': 1,\n",
       " ' Or': 1,\n",
       " ':': 1,\n",
       " ' ': 1}"
      ]
     },
     "execution_count": 26,
     "metadata": {},
     "output_type": "execute_result"
    }
   ],
   "source": [
    "extract_token_before_wait()"
   ]
  },
  {
   "cell_type": "code",
   "execution_count": 16,
   "metadata": {},
   "outputs": [
    {
     "name": "stderr",
     "output_type": "stream",
     "text": [
      "/tmp/ipykernel_34405/3589331676.py:2: FutureWarning: You are using `torch.load` with `weights_only=False` (the current default value), which uses the default pickle module implicitly. It is possible to construct malicious pickle data which will execute arbitrary code during unpickling (See https://github.com/pytorch/pytorch/blob/main/SECURITY.md#untrusted-models for more details). In a future release, the default value for `weights_only` will be flipped to `True`. This limits the functions that could be executed during unpickling. Arbitrary objects will no longer be allowed to be loaded via this mode unless they are explicitly allowlisted by the user via `torch.serialization.add_safe_globals`. We recommend you start setting `weights_only=True` for any use case where you don't have full control of the loaded file. Please open an issue on GitHub for any issues related to this experimental feature.\n",
      "  hs = torch.load(\"long_hidden_state/problem_0001.pt\")\n"
     ]
    }
   ],
   "source": [
    "import torch\n",
    "hs = torch.load(\"long_hidden_state/problem_0001.pt\")"
   ]
  },
  {
   "cell_type": "code",
   "execution_count": 17,
   "metadata": {},
   "outputs": [
    {
     "data": {
      "text/plain": [
       "1393"
      ]
     },
     "execution_count": 17,
     "metadata": {},
     "output_type": "execute_result"
    }
   ],
   "source": [
    "len(hs)"
   ]
  },
  {
   "cell_type": "code",
   "execution_count": 20,
   "metadata": {},
   "outputs": [
    {
     "data": {
      "text/plain": [
       "1596"
      ]
     },
     "execution_count": 20,
     "metadata": {},
     "output_type": "execute_result"
    }
   ],
   "source": [
    "from transformers import AutoModelForCausalLM, AutoTokenizer\n",
    "model_name = \"deepseek-ai/DeepSeek-R1-Distill-Qwen-7B\"\n",
    "tokenizer = AutoTokenizer.from_pretrained(model_name)\n",
    "len(tokenizer(data['response'])['input_ids'])"
   ]
  },
  {
   "cell_type": "code",
   "execution_count": 21,
   "metadata": {},
   "outputs": [
    {
     "data": {
      "text/plain": [
       "204"
      ]
     },
     "execution_count": 21,
     "metadata": {},
     "output_type": "execute_result"
    }
   ],
   "source": [
    "from transformers import AutoModelForCausalLM, AutoTokenizer\n",
    "model_name = \"deepseek-ai/DeepSeek-R1-Distill-Qwen-7B\"\n",
    "tokenizer = AutoTokenizer.from_pretrained(model_name)\n",
    "len(tokenizer(data['problem'])['input_ids'])"
   ]
  },
  {
   "cell_type": "code",
   "execution_count": 19,
   "metadata": {},
   "outputs": [
    {
     "name": "stdout",
     "output_type": "stream",
     "text": [
      "\n",
      "    A conversation between User and Assistant. The user asks a question, and the Assistant solves it. \n",
      "    The assistant first thinks about the reasoning process in the mind and then provides the user with the answer. \n",
      "    The reasoning process and answer are enclosed within <think> </think> and <answer> </answer> tags, respectively, \n",
      "    i.e., <think> reasoning process here </think> <answer> answer here </answer>. User: Define\n",
      "\\[p = \\sum_{k = 1}^\\infty \\frac{1}{k^2} \\quad \\text{and} \\quad q = \\sum_{k = 1}^\\infty \\frac{1}{k^3}.\\]Find a way to write\n",
      "\\[\\sum_{j = 1}^\\infty \\sum_{k = 1}^\\infty \\frac{1}{(j + k)^3}\\]in terms of $p$ and $q.$ Assistant:\n",
      "    \n"
     ]
    }
   ],
   "source": [
    "import json\n",
    "with open(\"long_responses/problem_0001.json\", \"rb\") as f:\n",
    "    data = json.load(f)\n",
    "print(data['problem'])"
   ]
  },
  {
   "cell_type": "code",
   "execution_count": 9,
   "metadata": {},
   "outputs": [
    {
     "data": {
      "text/plain": [
       "'e'"
      ]
     },
     "execution_count": 9,
     "metadata": {},
     "output_type": "execute_result"
    }
   ],
   "source": [
    "problem = data['problem']\n",
    "problem[1]"
   ]
  },
  {
   "cell_type": "code",
   "execution_count": 27,
   "metadata": {},
   "outputs": [
    {
     "name": "stderr",
     "output_type": "stream",
     "text": [
      "100%|██████████| 500/500 [00:00<00:00, 603.73it/s]\n"
     ]
    },
    {
     "data": {
      "text/plain": [
       "{'.\\n\\n': 7183,\n",
       " '?\\n\\n': 1786,\n",
       " ',': 593,\n",
       " 'But': 547,\n",
       " ' but': 411,\n",
       " '?': 306,\n",
       " ').\\n\\n': 225,\n",
       " ':\\n\\n': 197,\n",
       " '\\n\\n': 189,\n",
       " '.': 180,\n",
       " '.\"\\n\\n': 154,\n",
       " '?\"\\n\\n': 144,\n",
       " ' \\n\\n': 139,\n",
       " ' \"': 88,\n",
       " ')\\n\\n': 64,\n",
       " ' But': 55,\n",
       " ')?\\n\\n': 38,\n",
       " ').': 34,\n",
       " '\"\\n\\n': 33,\n",
       " '\"': 26,\n",
       " ':': 25,\n",
       " '**\\n\\n': 23,\n",
       " '...\\n\\n': 21,\n",
       " '$\\n\\n': 18,\n",
       " '\".\\n\\n': 17,\n",
       " '}\\n\\n': 16,\n",
       " '].\\n\\n': 16,\n",
       " ']\\n\\n': 16,\n",
       " ']': 12,\n",
       " '...': 11,\n",
       " ' ?\\n\\n': 11,\n",
       " '**': 10,\n",
       " '$.': 9,\n",
       " ',\\n\\n': 6,\n",
       " ',...\\n\\n': 6,\n",
       " ' so': 6,\n",
       " ');\\n\\n': 6,\n",
       " '|\\n\\n': 6,\n",
       " ' Or': 5,\n",
       " ' )\\n\\n': 5,\n",
       " '%.\\n\\n': 5,\n",
       " ' \\n': 4,\n",
       " ' then': 4,\n",
       " '!\\n\\n': 4,\n",
       " '!': 4,\n",
       " ']\\n': 4,\n",
       " '!.\\n\\n': 4,\n",
       " ' no': 3,\n",
       " '\"?\\n\\n': 3,\n",
       " '));\\n\\n': 3,\n",
       " ')?': 3,\n",
       " '))\\n\\n': 3,\n",
       " \"'\\n\\n\": 3,\n",
       " '):\\n\\n': 2,\n",
       " ' to': 2,\n",
       " '**\\n': 2,\n",
       " ' doesn': 2,\n",
       " ')': 2,\n",
       " ' maybe': 2,\n",
       " '—': 2,\n",
       " '...\"\\n\\n': 2,\n",
       " ' except': 1,\n",
       " ']]\\n\\n': 1,\n",
       " ' ...': 1,\n",
       " '}.': 1,\n",
       " ')...': 1,\n",
       " '}?': 1,\n",
       " '.\"': 1,\n",
       " ')\"\\n\\n': 1,\n",
       " ' didn': 1,\n",
       " '=': 1,\n",
       " '$:': 1,\n",
       " ' perhaps': 1,\n",
       " ' Because': 1,\n",
       " ' ...\\n\\n': 1,\n",
       " ' actually': 1,\n",
       " ' ]\\n\\n': 1,\n",
       " '\"?': 1,\n",
       " '`\\n\\n': 1,\n",
       " '`.\\n\\n': 1,\n",
       " '),': 1,\n",
       " ' or': 1,\n",
       " '\\n': 1,\n",
       " 'So': 1,\n",
       " '.?': 1,\n",
       " ')])\\n\\n': 1,\n",
       " '.)\\n\\n': 1,\n",
       " '.)': 1,\n",
       " \".'\": 1,\n",
       " ';\\n\\n': 1,\n",
       " '\\\\\\n': 1,\n",
       " ' because': 1,\n",
       " '?\"': 1,\n",
       " ');': 1}"
      ]
     },
     "execution_count": 27,
     "metadata": {},
     "output_type": "execute_result"
    }
   ],
   "source": [
    "extract_token_before_wait(response_dir=\"./icv\")"
   ]
  },
  {
   "cell_type": "code",
   "execution_count": 28,
   "metadata": {},
   "outputs": [
    {
     "name": "stderr",
     "output_type": "stream",
     "text": [
      "100%|██████████| 500/500 [00:00<00:00, 690.08it/s]\n"
     ]
    },
    {
     "data": {
      "text/plain": [
       "{'.\\n\\n': 449,\n",
       " 'But': 108,\n",
       " '.': 95,\n",
       " '?\\n\\n': 55,\n",
       " '\\n\\n': 41,\n",
       " ' But': 40,\n",
       " '?': 35,\n",
       " ').\\n\\n': 33,\n",
       " ' \\n\\n': 20,\n",
       " ')\\n\\n': 18,\n",
       " ']\\n\\n': 15,\n",
       " ' but': 13,\n",
       " ').': 12,\n",
       " ',': 8,\n",
       " '?\"\\n\\n': 4,\n",
       " '...': 3,\n",
       " '$.': 3,\n",
       " ':\\n\\n': 2,\n",
       " ' or': 2,\n",
       " '  \\n': 2,\n",
       " '**': 1,\n",
       " ' ?\\n\\n': 1,\n",
       " ')?': 1,\n",
       " ' ...': 1,\n",
       " '...\\n\\n': 1,\n",
       " ']\\n': 1,\n",
       " '  \\n\\n': 1,\n",
       " '\"\\n\\n': 1,\n",
       " ' ]\\n\\n': 1,\n",
       " '?\"': 1,\n",
       " ' )\\n\\n': 1,\n",
       " 'but': 1,\n",
       " '}?': 1,\n",
       " ')?\\n\\n': 1,\n",
       " '}\\n\\n': 1,\n",
       " '.)\\n\\n': 1,\n",
       " '].': 1,\n",
       " '.\"\\n\\n': 1}"
      ]
     },
     "execution_count": 28,
     "metadata": {},
     "output_type": "execute_result"
    }
   ],
   "source": [
    "extract_token_before_wait(response_dir=\"./icv_pca\")"
   ]
  },
  {
   "cell_type": "markdown",
   "metadata": {},
   "source": [
    "- select the token before wait like \"But\"\n",
    "- select the same token not before wait\n",
    "- compute the average representation of the positive hidden states and negative hidden states\n",
    "- compute the difference between positive and negative results, and get the vectors\n",
    "- inject the vectors when model generate the results"
   ]
  },
  {
   "cell_type": "code",
   "execution_count": null,
   "metadata": {},
   "outputs": [],
   "source": []
  }
 ],
 "metadata": {
  "kernelspec": {
   "display_name": ".venv",
   "language": "python",
   "name": "python3"
  },
  "language_info": {
   "codemirror_mode": {
    "name": "ipython",
    "version": 3
   },
   "file_extension": ".py",
   "mimetype": "text/x-python",
   "name": "python",
   "nbconvert_exporter": "python",
   "pygments_lexer": "ipython3",
   "version": "3.12.0"
  }
 },
 "nbformat": 4,
 "nbformat_minor": 2
}
