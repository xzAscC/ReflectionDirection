{
 "cells": [
  {
   "cell_type": "code",
   "execution_count": 1,
   "metadata": {},
   "outputs": [],
   "source": [
    "import os\n",
    "import re\n",
    "import json\n",
    "import torch\n",
    "from tqdm import tqdm\n",
    "from transformers import AutoModelForCausalLM, AutoTokenizer\n",
    "from typing import List\n",
    "from collections import Counter\n",
    "import seaborn as sns\n",
    "import matplotlib.pyplot as plt"
   ]
  },
  {
   "cell_type": "code",
   "execution_count": 2,
   "metadata": {},
   "outputs": [],
   "source": [
    "# response_dir: str = \"./reflect_responses\"\n",
    "# hidden_state_dir: str = \"./hidden_state\"\n",
    "# model_name: str = \"deepseek-ai/DeepSeek-R1-Distill-Qwen-7B\"\n",
    "# token_list: List[int] = [382, 3983, 13]\n",
    "# tokenizer = AutoTokenizer.from_pretrained(model_name)\n",
    "# last_token_before_wait = []\n",
    "# last_token_before_wo_wait = []\n",
    "# for idx, path in enumerate(tqdm(os.listdir(response_dir))):\n",
    "#     with open(os.path.join(response_dir, path), \"r\") as f:\n",
    "#         response = json.load(f)\n",
    "#     hidden_states = torch.load(\n",
    "#         os.path.join(hidden_state_dir, path.split(\".\")[0] + \".pt\")\n",
    "#     )\n",
    "#     input_ids = tokenizer(response[\"response\"], return_tensors=\"pt\")[\"input_ids\"].to(\n",
    "#         \"cuda:0\"\n",
    "#     )\n",
    "#     problem_length = tokenizer(response[\"problem\"], return_tensors=\"pt\")[\n",
    "#         \"input_ids\"\n",
    "#     ].shape[1]\n",
    "#     input_length = input_ids.shape[1]\n",
    "#     wait_word = [\"wait\", \"Wait\", \" wait\", \" Wait\"]\n",
    "#     wait_list = []\n",
    "#     for word in wait_word:\n",
    "#         wait_list.append(tokenizer(word, return_tensors=\"pt\")[\"input_ids\"][0][1].item())\n",
    "#     indices = []\n",
    "#     for word in wait_list:\n",
    "#         index = (input_ids[0] == word).nonzero().squeeze()\n",
    "#         if index.dim() == 0:  # if it's a scalar, add a dimension\n",
    "#             index = index.unsqueeze(0)\n",
    "#         indices.append(index)\n",
    "#     res = torch.cat(indices)\n",
    "#     for idy in res:\n",
    "#         token_before_wait = input_ids[0][idy - 1].item()\n",
    "#         last_token_before_wait.append(hidden_states[idy - 1 - problem_length])\n",
    "#     for token in token_list:\n",
    "#         index = (input_ids[0] == token).nonzero().squeeze()\n",
    "#         if index.dim() == 0:  # if it's a scalar, add a dimension\n",
    "#             index = index.unsqueeze(0)\n",
    "#         for i in range(index.shape[0]):\n",
    "#             input_length = input_ids[0].shape[0]\n",
    "#             if index[i] + 50 > input_length:\n",
    "#                 search_end_index = input_length\n",
    "#             else:\n",
    "#                 search_end_index = index[i] + 50\n",
    "#             flag = False\n",
    "#             for word in wait_list:\n",
    "#                 if word in input_ids[0][index[i] : search_end_index]:\n",
    "#                     flag = True\n",
    "#                     break\n",
    "#             if not flag:\n",
    "#                 last_token_before_wo_wait.append(\n",
    "#                     hidden_states[index[i] - problem_length]\n",
    "#                 )"
   ]
  },
  {
   "cell_type": "code",
   "execution_count": 3,
   "metadata": {},
   "outputs": [],
   "source": [
    "def compute_rank(hidden_states, threshold=1e-5):\n",
    "    \"\"\"\n",
    "    Computes the numerical rank of the hidden states matrix using SVD.\n",
    "\n",
    "    Parameters:\n",
    "        hidden_states (torch.Tensor): The hidden state representations of shape (batch_size, seq_len, hidden_dim)\n",
    "        threshold (float): Singular values below this threshold are considered zero.\n",
    "\n",
    "    Returns:\n",
    "        rank (int): Estimated rank of the hidden states\n",
    "    \"\"\"\n",
    "    if hidden_states.dim() == 3:\n",
    "        # Reshape to 2D: (batch_size * seq_len, hidden_dim)\n",
    "        hidden_states = hidden_states.reshape(-1, hidden_states.size(-1))\n",
    "\n",
    "    # Compute Singular Value Decomposition (SVD)\n",
    "    U, S, Vh = torch.linalg.svd(hidden_states, full_matrices=False)\n",
    "\n",
    "    # Compute rank based on threshold\n",
    "    rank = (S > threshold).sum().item()\n",
    "\n",
    "    return rank, S"
   ]
  },
  {
   "cell_type": "code",
   "execution_count": 4,
   "metadata": {},
   "outputs": [
    {
     "name": "stdout",
     "output_type": "stream",
     "text": [
      "Number of selected examples: 891\n"
     ]
    }
   ],
   "source": [
    "import random\n",
    "\n",
    "selected_examples = random.sample(\n",
    "    last_token_before_wo_wait, len(last_token_before_wait)\n",
    ")\n",
    "print(f\"Number of selected examples: {len(selected_examples)}\")"
   ]
  },
  {
   "cell_type": "code",
   "execution_count": 6,
   "metadata": {},
   "outputs": [
    {
     "name": "stderr",
     "output_type": "stream",
     "text": [
      "100%|██████████| 29/29 [01:41<00:00,  3.50s/it]"
     ]
    },
    {
     "name": "stdout",
     "output_type": "stream",
     "text": [
      "[829, 3546, 3563, 3572, 3570, 3570, 3567, 3582, 3577, 3583, 3582, 3579, 3580, 3581, 3581, 3584, 3582, 3579, 3583, 3584, 3584, 3584, 3583, 3584, 3584, 3584, 3584, 3584, 3580]\n"
     ]
    },
    {
     "name": "stderr",
     "output_type": "stream",
     "text": [
      "\n"
     ]
    }
   ],
   "source": [
    "rank_list = []\n",
    "layers = 29\n",
    "for layer in tqdm(range(layers)):\n",
    "    token_rep_one_layer = torch.cat([\n",
    "        x[layer].mean(dim=1, keepdim=True) if x[layer].shape[1] > 1 else x[layer]\n",
    "        for x in selected_examples\n",
    "    ]).to(\"cuda:0\").squeeze()\n",
    "    token_rep_one_layer = token_rep_one_layer.to(torch.float32)\n",
    "    token_before_wait = torch.cat([\n",
    "        x[layer].mean(dim=1, keepdim=True) if x[layer].shape[1] > 1 else x[layer]\n",
    "        for x in last_token_before_wait\n",
    "    ]).to(\"cuda:0\").squeeze()\n",
    "    token_before_wait = token_before_wait.to(torch.float32)\n",
    "    diff = token_rep_one_layer - token_before_wait\n",
    "    matmul_result = torch.matmul(diff.T, diff)\n",
    "    rank, S = compute_rank(matmul_result)\n",
    "    rank_list.append(rank)\n",
    "print(rank_list)"
   ]
  },
  {
   "cell_type": "code",
   "execution_count": 9,
   "metadata": {},
   "outputs": [
    {
     "data": {
      "image/png": "[encoded data removed]",
      "text/plain": [
       "<Figure size 1000x600 with 1 Axes>"
      ]
     },
     "metadata": {},
     "output_type": "display_data"
    }
   ],
   "source": [
    "plt.figure(figsize=(10, 6))\n",
    "sns.lineplot(x=range(len(rank_list[:])-5), y=rank_list[5:], marker=\"o\")\n",
    "plt.title(\"Rank of Token Representations Across Layers\")\n",
    "plt.xlabel(\"Layer\")\n",
    "plt.ylabel(\"Rank\")\n",
    "plt.grid(True)\n",
    "plt.show()"
   ]
  },
  {
   "cell_type": "code",
   "execution_count": 2,
   "metadata": {},
   "outputs": [
    {
     "name": "stderr",
     "output_type": "stream",
     "text": [
      "/tmp/ipykernel_121783/1407610352.py:1: FutureWarning: You are using `torch.load` with `weights_only=False` (the current default value), which uses the default pickle module implicitly. It is possible to construct malicious pickle data which will execute arbitrary code during unpickling (See https://github.com/pytorch/pytorch/blob/main/SECURITY.md#untrusted-models for more details). In a future release, the default value for `weights_only` will be flipped to `True`. This limits the functions that could be executed during unpickling. Arbitrary objects will no longer be allowed to be loaded via this mode unless they are explicitly allowlisted by the user via `torch.serialization.add_safe_globals`. We recommend you start setting `weights_only=True` for any use case where you don't have full control of the loaded file. Please open an issue on GitHub for any issues related to this experimental feature.\n",
      "  last_token_before_wait = torch.load(\"last_token_before_wait.pt\")\n",
      "/tmp/ipykernel_121783/1407610352.py:2: FutureWarning: You are using `torch.load` with `weights_only=False` (the current default value), which uses the default pickle module implicitly. It is possible to construct malicious pickle data which will execute arbitrary code during unpickling (See https://github.com/pytorch/pytorch/blob/main/SECURITY.md#untrusted-models for more details). In a future release, the default value for `weights_only` will be flipped to `True`. This limits the functions that could be executed during unpickling. Arbitrary objects will no longer be allowed to be loaded via this mode unless they are explicitly allowlisted by the user via `torch.serialization.add_safe_globals`. We recommend you start setting `weights_only=True` for any use case where you don't have full control of the loaded file. Please open an issue on GitHub for any issues related to this experimental feature.\n",
      "  last_token_before_wo_wait = torch.load(\"last_token_before_wo_wait.pt\")\n"
     ]
    }
   ],
   "source": [
    "last_token_before_wait = torch.load(\"last_token_before_wait.pt\")\n",
    "last_token_before_wo_wait = torch.load(\"last_token_before_wo_wait.pt\")"
   ]
  },
  {
   "cell_type": "code",
   "execution_count": 8,
   "metadata": {},
   "outputs": [
    {
     "name": "stderr",
     "output_type": "stream",
     "text": [
      "100%|██████████| 29/29 [00:00<00:00, 130.28it/s]\n"
     ]
    }
   ],
   "source": [
    "sim_list = []\n",
    "layers = 29\n",
    "icv = torch.zeros(layers, last_token_before_wo_wait[0][0].shape[-1])\n",
    "for layer in tqdm(range(layers)):\n",
    "    token_rep_one_layer = torch.cat([\n",
    "        x[layer].mean(dim=1, keepdim=True) if x[layer].shape[1] > 1 else x[layer]\n",
    "        for x in last_token_before_wo_wait\n",
    "    ]).to(\"cuda:0\").squeeze()\n",
    "    token_rep_one_layer = token_rep_one_layer.to(torch.float32)\n",
    "    token_before_wait = torch.cat([\n",
    "        x[layer].mean(dim=1, keepdim=True) if x[layer].shape[1] > 1 else x[layer]\n",
    "        for x in last_token_before_wait\n",
    "    ]).to(\"cuda:0\").squeeze()\n",
    "    mean_token_rep = token_rep_one_layer.mean(dim=0)\n",
    "    mean_token_before = token_before_wait.mean(dim=0)\n",
    "    diff_means = mean_token_before - mean_token_rep\n",
    "    icv[layer] = diff_means\n"
   ]
  },
  {
   "cell_type": "code",
   "execution_count": 9,
   "metadata": {},
   "outputs": [],
   "source": [
    "from utils import add_icv_layers, get_layers\n",
    "model_name: str = \"deepseek-ai/DeepSeek-R1-Distill-Qwen-7B\"\n",
    "tokenizer = AutoTokenizer.from_pretrained(model_name)"
   ]
  },
  {
   "cell_type": "code",
   "execution_count": 10,
   "metadata": {},
   "outputs": [
    {
     "name": "stderr",
     "output_type": "stream",
     "text": [
      "Sliding Window Attention is enabled but not implemented for `sdpa`; unexpected results may be encountered.\n"
     ]
    },
    {
     "data": {
      "application/vnd.jupyter.widget-view+json": {
       "model_id": "94c564333fed455493784907f9cac378",
       "version_major": 2,
       "version_minor": 0
      },
      "text/plain": [
       "Loading checkpoint shards:   0%|          | 0/2 [00:00<?, ?it/s]"
      ]
     },
     "metadata": {},
     "output_type": "display_data"
    }
   ],
   "source": [
    "model = AutoModelForCausalLM.from_pretrained(model_name, torch_dtype=torch.bfloat16).to(\"cuda:0\")"
   ]
  },
  {
   "cell_type": "code",
   "execution_count": null,
   "metadata": {},
   "outputs": [],
   "source": [
    "sim_list = []\n",
    "layers = 29\n",
    "icv = torch.zeros(layers, last_token_before_wo_wait[0][0].shape[-1])\n",
    "import random\n",
    "\n",
    "selected_examples = random.sample(\n",
    "    last_token_before_wo_wait, len(last_token_before_wait)\n",
    ")\n",
    "print(f\"Number of selected examples: {len(selected_examples)}\")\n",
    "for layer in tqdm(range(layers)):\n",
    "    token_rep_one_layer = torch.cat([\n",
    "        x[layer].mean(dim=1, keepdim=True) if x[layer].shape[1] > 1 else x[layer]\n",
    "        for x in selected_examples\n",
    "    ]).to(\"cuda:0\").squeeze()\n",
    "    token_rep_one_layer = token_rep_one_layer.to(torch.float32)\n",
    "    token_before_wait = torch.cat([\n",
    "        x[layer].mean(dim=1, keepdim=True) if x[layer].shape[1] > 1 else x[layer]\n",
    "        for x in last_token_before_wait\n",
    "    ]).to(\"cuda:0\").squeeze()\n",
    "    diff_means = token_before_wait - token_rep_one_layer\n",
    "    res_mat = torch.matmul(diff_means.T, diff_means)\n",
    "    # Compute eigen decomposition (PCA) on res_mat and select the first eigenvector\n",
    "    eigenvalues, eigenvectors = torch.linalg.eigh(res_mat)\n",
    "    first_eigenvector = eigenvectors[:, -1]\n",
    "    icv[layer] = first_eigenvector\n",
    "lam = 0.12\n",
    "add_icv_layers(model, icv[:-1].cuda(), [lam])"
   ]
  },
  {
   "cell_type": "code",
   "execution_count": 11,
   "metadata": {},
   "outputs": [
    {
     "name": "stdout",
     "output_type": "stream",
     "text": [
      "28\n"
     ]
    }
   ],
   "source": [
    "lam = 0.12\n",
    "add_icv_layers(model, icv[1:].cuda(), [lam])"
   ]
  },
  {
   "cell_type": "code",
   "execution_count": 12,
   "metadata": {},
   "outputs": [],
   "source": [
    "from datasets import load_dataset\n",
    "dataset = load_dataset(\"HuggingFaceH4/MATH-500\")\n",
    "problems = dataset[\"test\"][\"problem\"]"
   ]
  },
  {
   "cell_type": "code",
   "execution_count": 13,
   "metadata": {},
   "outputs": [
    {
     "name": "stderr",
     "output_type": "stream",
     "text": [
      "  0%|          | 0/500 [00:00<?, ?it/s]The attention mask is not set and cannot be inferred from input because pad token is same as eos token. As a consequence, you may observe unexpected behavior. Please pass your input's `attention_mask` to obtain reliable results.\n",
      "  0%|          | 0/500 [00:20<?, ?it/s]"
     ]
    },
    {
     "name": "stdout",
     "output_type": "stream",
     "text": [
      "tensor([151646,  12012,    279,  ...,  51745,     14,     17], device='cuda:0')\n"
     ]
    },
    {
     "name": "stderr",
     "output_type": "stream",
     "text": [
      "\n"
     ]
    }
   ],
   "source": [
    "for idx, problem in enumerate(tqdm(problems)):\n",
    "    # Prepare prompt for inference\n",
    "    inputs = tokenizer(problem, return_tensors=\"pt\").to(\"cuda:0\")\n",
    "\n",
    "    # # Generate output text with output_hidden_states=True to get hidden states\n",
    "    outputs = model.generate(\n",
    "        inputs.input_ids,\n",
    "        max_new_tokens=1000,\n",
    "        temperature=0.7,\n",
    "        do_sample=True,\n",
    "        pad_token_id=tokenizer.pad_token_id,\n",
    "        output_hidden_states=True,\n",
    "        return_dict_in_generate=True,\n",
    "    )\n",
    "\n",
    "    # # Get the generated tokens and hidden states\n",
    "    generated_tokens = outputs.sequences[0]\n",
    "    print(generated_tokens)\n",
    "    break"
   ]
  },
  {
   "cell_type": "code",
   "execution_count": 10,
   "metadata": {},
   "outputs": [],
   "source": [
    "import os\n",
    "import json\n",
    "r_num = 0\n",
    "for file in os.listdir(\"./icv_pca\"):\n",
    "    with open(os.path.join(\"./icv_pca\", file), \"r\") as f:\n",
    "        responses = json.load(f)['response']\n",
    "    r_num += (responses.count(\"wait\") + responses.count(\"Wait\"))"
   ]
  },
  {
   "cell_type": "code",
   "execution_count": 11,
   "metadata": {},
   "outputs": [
    {
     "name": "stdout",
     "output_type": "stream",
     "text": [
      "976\n"
     ]
    }
   ],
   "source": [
    "print(r_num)"
   ]
  },
  {
   "cell_type": "code",
   "execution_count": null,
   "metadata": {},
   "outputs": [],
   "source": []
  }
 ],
 "metadata": {
  "kernelspec": {
   "display_name": ".venv",
   "language": "python",
   "name": "python3"
  },
  "language_info": {
   "codemirror_mode": {
    "name": "ipython",
    "version": 3
   },
   "file_extension": ".py",
   "mimetype": "text/x-python",
   "name": "python",
   "nbconvert_exporter": "python",
   "pygments_lexer": "ipython3",
   "version": "3.12.0"
  }
 },
 "nbformat": 4,
 "nbformat_minor": 2
}
