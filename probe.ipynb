{
 "cells": [
  {
   "cell_type": "code",
   "execution_count": 1,
   "metadata": {},
   "outputs": [],
   "source": [
    "import torch\n",
    "from tqdm import tqdm\n",
    "from transformers import AutoModelForCausalLM, AutoTokenizer\n",
    "from collections import Counter\n"
   ]
  },
  {
   "cell_type": "code",
   "execution_count": 7,
   "metadata": {},
   "outputs": [
    {
     "name": "stderr",
     "output_type": "stream",
     "text": [
      "/tmp/ipykernel_18385/896269943.py:1: FutureWarning: You are using `torch.load` with `weights_only=False` (the current default value), which uses the default pickle module implicitly. It is possible to construct malicious pickle data which will execute arbitrary code during unpickling (See https://github.com/pytorch/pytorch/blob/main/SECURITY.md#untrusted-models for more details). In a future release, the default value for `weights_only` will be flipped to `True`. This limits the functions that could be executed during unpickling. Arbitrary objects will no longer be allowed to be loaded via this mode unless they are explicitly allowlisted by the user via `torch.serialization.add_safe_globals`. We recommend you start setting `weights_only=True` for any use case where you don't have full control of the loaded file. Please open an issue on GitHub for any issues related to this experimental feature.\n",
      "  unembedding_matrix = torch.load('./save_common_pt/unembedding_matrix_7B.pt')\n",
      "/tmp/ipykernel_18385/896269943.py:2: FutureWarning: You are using `torch.load` with `weights_only=False` (the current default value), which uses the default pickle module implicitly. It is possible to construct malicious pickle data which will execute arbitrary code during unpickling (See https://github.com/pytorch/pytorch/blob/main/SECURITY.md#untrusted-models for more details). In a future release, the default value for `weights_only` will be flipped to `True`. This limits the functions that could be executed during unpickling. Arbitrary objects will no longer be allowed to be loaded via this mode unless they are explicitly allowlisted by the user via `torch.serialization.add_safe_globals`. We recommend you start setting `weights_only=True` for any use case where you don't have full control of the loaded file. Please open an issue on GitHub for any issues related to this experimental feature.\n",
      "  last_token_before_wo_wait = torch.load('tmp3.pt')\n"
     ]
    }
   ],
   "source": [
    "unembedding_matrix = torch.load('./save_common_pt/unembedding_matrix_7B.pt')\n",
    "last_token_before_wo_wait = torch.load('tmp3.pt')\n"
   ]
  },
  {
   "cell_type": "code",
   "execution_count": 12,
   "metadata": {},
   "outputs": [
    {
     "name": "stdout",
     "output_type": "stream",
     "text": [
      "1024\n"
     ]
    }
   ],
   "source": [
    "print(len(last_token_before_wo_wait))"
   ]
  },
  {
   "cell_type": "code",
   "execution_count": 19,
   "metadata": {},
   "outputs": [
    {
     "name": "stderr",
     "output_type": "stream",
     "text": [
      "100%|██████████| 29/29 [00:36<00:00,  1.27s/it]\n"
     ]
    }
   ],
   "source": [
    "rank_list = []\n",
    "layers = 29\n",
    "numerical_ranks = []\n",
    "numerical_ranks_no_wait = []\n",
    "for layer in tqdm(range(layers)):\n",
    "    token_before_wait = torch.cat([\n",
    "        x[layer][-1] if x[layer].shape[1] > 1 else x[layer]\n",
    "        for x in last_token_before_wo_wait\n",
    "    ]).squeeze().to(\"cuda:0\")\n",
    "    words = []\n",
    "    for token in token_before_wait:\n",
    "        logits = torch.matmul(token, unembedding_matrix.T)\n",
    "        words.append(logits.topk(1).indices.item())\n",
    "    \n",
    "    # token_before_no_wait = torch.cat([\n",
    "    #     x[layer][-1] if x[layer].shape[1] > 1 else x[layer]\n",
    "    #     for x in last_token_before_no_wait\n",
    "    # ]).squeeze().to(\"cuda:0\").to(torch.float32)\n",
    "    # Apply logit lens for the current layer\n",
    "    # logits = torch.matmul(token_before_wait, unembedding_matrix.T)\n",
    "    # log_probs = torch.nn.functional.log_softmax(logits, dim=-1)\n",
    "    # rank = torch.argsort(log_probs, dim=-1, descending=True)\n",
    "    counter = Counter(words)\n",
    "\n",
    "    top3 = counter.most_common(3)\n",
    "    rank_list.append(top3)\n"
   ]
  },
  {
   "cell_type": "code",
   "execution_count": 28,
   "metadata": {},
   "outputs": [
    {
     "name": "stdout",
     "output_type": "stream",
     "text": [
      "[[(105059, 44), (75258, 42), (51679, 37)], [(4028, 771), (133129, 67), (68106, 34)], [(4028, 883), (133129, 67), (68106, 17)], [(4028, 925), (133129, 65), (68106, 3)], [(4028, 952), (133129, 50), (127457, 2)], [(4028, 949), (133129, 43), (68106, 3)], [(4028, 994), (133129, 16), (134572, 1)], [(4028, 986), (133129, 20), (71720, 2)], [(4028, 931), (133129, 33), (68106, 5)], [(4028, 928), (133129, 36), (87965, 8)], [(4028, 949), (133129, 30), (71720, 5)], [(4028, 944), (133129, 35), (71720, 6)], [(4028, 905), (133129, 46), (71720, 9)], [(4028, 899), (133129, 45), (142157, 10)], [(4028, 905), (133129, 47), (71720, 14)], [(4028, 953), (71720, 19), (133129, 18)], [(4028, 932), (133129, 20), (71720, 18)], [(4028, 963), (133129, 18), (71720, 16)], [(4028, 964), (133129, 18), (71720, 17)], [(4028, 961), (71720, 19), (133129, 17)], [(4028, 975), (133129, 24), (71720, 10)], [(4028, 985), (133129, 22), (71720, 6)], [(4028, 971), (133129, 35), (71720, 4)], [(4028, 955), (133129, 52), (141351, 3)], [(4028, 981), (133129, 34), (2704, 2)], [(4028, 998), (133129, 24), (54172, 1)], [(4028, 1008), (133129, 16)], [(4028, 1018), (133129, 5), (139401, 1)], [(11, 47), (220, 37), (279, 30)]]\n"
     ]
    }
   ],
   "source": [
    "print(rank_list)"
   ]
  },
  {
   "cell_type": "code",
   "execution_count": 20,
   "metadata": {},
   "outputs": [
    {
     "name": "stdout",
     "output_type": "stream",
     "text": [
      "[['以下简称', '/\\n\\n\\n', 'evity'], ['\\ufeffusing', 'โปรแ', \" './../../\"], ['\\ufeffusing', 'โปรแ', \" './../../\"], ['\\ufeffusing', 'โปรแ', \" './../../\"], ['\\ufeffusing', 'โปรแ', 'ロン'], ['\\ufeffusing', 'โปรแ', \" './../../\"], ['\\ufeffusing', 'โปรแ', 'ぜひ'], ['\\ufeffusing', 'โปรแ', '\"sync'], ['\\ufeffusing', 'โปรแ', \" './../../\"], ['\\ufeffusing', 'โปรแ', '\"crypto'], ['\\ufeffusing', 'โปรแ', '\"sync'], ['\\ufeffusing', 'โปรแ', '\"sync'], ['\\ufeffusing', 'โปรแ', '\"sync'], ['\\ufeffusing', 'โปรแ', ' Республик'], ['\\ufeffusing', 'โปรแ', '\"sync'], ['\\ufeffusing', '\"sync', 'โปรแ'], ['\\ufeffusing', 'โปรแ', '\"sync'], ['\\ufeffusing', 'โปรแ', '\"sync'], ['\\ufeffusing', 'โปรแ', '\"sync'], ['\\ufeffusing', '\"sync', 'โปรแ'], ['\\ufeffusing', 'โปรแ', '\"sync'], ['\\ufeffusing', 'โปรแ', '\"sync'], ['\\ufeffusing', 'โปรแ', '\"sync'], ['\\ufeffusing', 'โปรแ', ' Diễn'], ['\\ufeffusing', 'โปรแ', ' sure'], ['\\ufeffusing', 'โปรแ', ' proportional'], ['\\ufeffusing', 'โปรแ'], ['\\ufeffusing', 'โปรแ', 'تكو'], [',', ' ', ' the']]\n"
     ]
    }
   ],
   "source": [
    "# Load the tokenizer (already imported from transformers)\n",
    "model_name = \"deepseek-ai/DeepSeek-R1-Distill-Qwen-7B\"\n",
    "\n",
    "tokenizer = AutoTokenizer.from_pretrained(model_name)\n",
    "char_list = []\n",
    "for layer, tokens in enumerate(rank_list):\n",
    "    char_list.append([])\n",
    "    for token in tokens:\n",
    "        char_list[layer].append(tokenizer.decode(token[0]))\n",
    "print(char_list)"
   ]
  },
  {
   "cell_type": "code",
   "execution_count": 21,
   "metadata": {},
   "outputs": [
    {
     "name": "stdout",
     "output_type": "stream",
     "text": [
      "layer0: ['以下简称', '/\\n\\n\\n', 'evity']\n",
      "layer1: ['\\ufeffusing', 'โปรแ', \" './../../\"]\n",
      "layer2: ['\\ufeffusing', 'โปรแ', \" './../../\"]\n",
      "layer3: ['\\ufeffusing', 'โปรแ', \" './../../\"]\n",
      "layer4: ['\\ufeffusing', 'โปรแ', 'ロン']\n",
      "layer5: ['\\ufeffusing', 'โปรแ', \" './../../\"]\n",
      "layer6: ['\\ufeffusing', 'โปรแ', 'ぜひ']\n",
      "layer7: ['\\ufeffusing', 'โปรแ', '\"sync']\n",
      "layer8: ['\\ufeffusing', 'โปรแ', \" './../../\"]\n",
      "layer9: ['\\ufeffusing', 'โปรแ', '\"crypto']\n",
      "layer10: ['\\ufeffusing', 'โปรแ', '\"sync']\n",
      "layer11: ['\\ufeffusing', 'โปรแ', '\"sync']\n",
      "layer12: ['\\ufeffusing', 'โปรแ', '\"sync']\n",
      "layer13: ['\\ufeffusing', 'โปรแ', ' Республик']\n",
      "layer14: ['\\ufeffusing', 'โปรแ', '\"sync']\n",
      "layer15: ['\\ufeffusing', '\"sync', 'โปรแ']\n",
      "layer16: ['\\ufeffusing', 'โปรแ', '\"sync']\n",
      "layer17: ['\\ufeffusing', 'โปรแ', '\"sync']\n",
      "layer18: ['\\ufeffusing', 'โปรแ', '\"sync']\n",
      "layer19: ['\\ufeffusing', '\"sync', 'โปรแ']\n",
      "layer20: ['\\ufeffusing', 'โปรแ', '\"sync']\n",
      "layer21: ['\\ufeffusing', 'โปรแ', '\"sync']\n",
      "layer22: ['\\ufeffusing', 'โปรแ', '\"sync']\n",
      "layer23: ['\\ufeffusing', 'โปรแ', ' Diễn']\n",
      "layer24: ['\\ufeffusing', 'โปรแ', ' sure']\n",
      "layer25: ['\\ufeffusing', 'โปรแ', ' proportional']\n",
      "layer26: ['\\ufeffusing', 'โปรแ']\n",
      "layer27: ['\\ufeffusing', 'โปรแ', 'تكو']\n",
      "layer28: [',', ' ', ' the']\n"
     ]
    }
   ],
   "source": [
    "for idx, char_ in enumerate(char_list):\n",
    "    print(f\"layer{idx}: {char_}\")"
   ]
  },
  {
   "cell_type": "code",
   "execution_count": 29,
   "metadata": {},
   "outputs": [
    {
     "data": {
      "text/plain": [
       "'\\ufeffusing'"
      ]
     },
     "execution_count": 29,
     "metadata": {},
     "output_type": "execute_result"
    }
   ],
   "source": [
    "tokenizer.decode(4028)"
   ]
  },
  {
   "cell_type": "code",
   "execution_count": null,
   "metadata": {},
   "outputs": [
    {
     "data": {
      "text/plain": [
       "'ï»¿using'"
      ]
     },
     "execution_count": 30,
     "metadata": {},
     "output_type": "execute_result"
    }
   ],
   "source": [
    "vocab = tokenizer.get_vocab()\n",
    "\n",
    "id_to_token = {v: k for k, v in vocab.items()}\n",
    "\n",
    "id_to_token[4028]"
   ]
  },
  {
   "cell_type": "code",
   "execution_count": null,
   "metadata": {},
   "outputs": [
    {
     "name": "stdout",
     "output_type": "stream",
     "text": [
      "Unembedding 矩阵第 4028 行最接近的 token: ï»¿using\n"
     ]
    }
   ],
   "source": [
    "import torch\n",
    "import torch.nn.functional as F\n",
    "\n",
    "\n",
    "# 计算某一行（假设是 unembedding matrix 第 100 行）\n",
    "index = 4028\n",
    "vector = unembedding_matrix[index]\n",
    "\n",
    "# Select the tokenizer weight\n",
    "\n",
    "W_E = unembedding_matrix.detach()  # Detach the unembedding matrix to avoid gradients\n",
    "similarities = F.cosine_similarity(vector.unsqueeze(0), W_E, dim=1)\n",
    "most_similar_index = torch.argmax(similarities).item()\n",
    "\n",
    "# 查找 token\n",
    "token = tokenizer.convert_ids_to_tokens(most_similar_index)\n",
    "print(f\"Unembedding 矩阵第 {index} 行最接近的 token: {token}\")\n"
   ]
  },
  {
   "cell_type": "code",
   "execution_count": 32,
   "metadata": {},
   "outputs": [
    {
     "name": "stdout",
     "output_type": "stream",
     "text": [
      "151665\n"
     ]
    }
   ],
   "source": [
    "print(len(vocab))"
   ]
  },
  {
   "cell_type": "code",
   "execution_count": 37,
   "metadata": {},
   "outputs": [
    {
     "name": "stdout",
     "output_type": "stream",
     "text": [
      "<|repo_name|>\n"
     ]
    }
   ],
   "source": [
    "print(id_to_token[151663])"
   ]
  },
  {
   "cell_type": "code",
   "execution_count": 14,
   "metadata": {},
   "outputs": [
    {
     "name": "stdout",
     "output_type": "stream",
     "text": [
      "layer0: ['swer', 'AVA']\n",
      "layer1: ['\\ufeffusing']\n",
      "layer2: ['\\ufeffusing']\n",
      "layer3: ['\\ufeffusing']\n",
      "layer4: ['\\ufeffusing']\n",
      "layer5: ['\\ufeffusing', 'โปรแ']\n",
      "layer6: ['\\ufeffusing']\n",
      "layer7: ['\\ufeffusing']\n",
      "layer8: ['\\ufeffusing']\n",
      "layer9: ['\\ufeffusing']\n",
      "layer10: ['\\ufeffusing']\n",
      "layer11: ['\\ufeffusing', 'โปรแ']\n",
      "layer12: ['\\ufeffusing', 'โปรแ']\n",
      "layer13: ['\\ufeffusing', 'โปรแ', ' Diễn']\n",
      "layer14: ['\\ufeffusing', 'โปรแ', ' Diễn']\n",
      "layer15: ['\\ufeffusing']\n",
      "layer16: ['\\ufeffusing', 'โปรแ']\n",
      "layer17: ['\\ufeffusing']\n",
      "layer18: ['\\ufeffusing']\n",
      "layer19: ['\\ufeffusing', 'โปรแ', '\"sync']\n",
      "layer20: ['\\ufeffusing', 'โปรแ']\n",
      "layer21: ['\\ufeffusing', 'โปรแ']\n",
      "layer22: ['\\ufeffusing', 'โปรแ', ' similarly']\n",
      "layer23: ['\\ufeffusing', 'โปรแ']\n",
      "layer24: ['\\ufeffusing', 'โปรแ']\n",
      "layer25: ['\\ufeffusing', 'โปรแ']\n",
      "layer26: ['\\ufeffusing', 'โปรแ']\n",
      "layer27: ['\\ufeffusing', 'โปรแ']\n",
      "layer28: ['Wait', 'But', 'So']\n"
     ]
    }
   ],
   "source": [
    "pos_char_list = [['swer', 'AVA'], ['\\ufeffusing'], ['\\ufeffusing'], ['\\ufeffusing'], ['\\ufeffusing'], ['\\ufeffusing', 'โปรแ'], ['\\ufeffusing'], ['\\ufeffusing'], ['\\ufeffusing'], ['\\ufeffusing'], ['\\ufeffusing'], ['\\ufeffusing', 'โปรแ'], ['\\ufeffusing', 'โปรแ'], ['\\ufeffusing', 'โปรแ', ' Diễn'], ['\\ufeffusing', 'โปรแ', ' Diễn'], ['\\ufeffusing'], ['\\ufeffusing', 'โปรแ'], ['\\ufeffusing'], ['\\ufeffusing'], ['\\ufeffusing', 'โปรแ', '\"sync'], ['\\ufeffusing', 'โปรแ'], ['\\ufeffusing', 'โปรแ'], ['\\ufeffusing', 'โปรแ', ' similarly'], ['\\ufeffusing', 'โปรแ'], ['\\ufeffusing', 'โปรแ'], ['\\ufeffusing', 'โปรแ'], ['\\ufeffusing', 'โปรแ'], ['\\ufeffusing', 'โปรแ'], ['Wait', 'But', 'So']]\n",
    "\n",
    "for idx, char_ in enumerate(pos_char_list):\n",
    "    print(f\"layer{idx}: {char_}\")"
   ]
  },
  {
   "cell_type": "code",
   "execution_count": 61,
   "metadata": {},
   "outputs": [
    {
     "name": "stderr",
     "output_type": "stream",
     "text": [
      "/tmp/ipykernel_256502/248964222.py:1: FutureWarning: You are using `torch.load` with `weights_only=False` (the current default value), which uses the default pickle module implicitly. It is possible to construct malicious pickle data which will execute arbitrary code during unpickling (See https://github.com/pytorch/pytorch/blob/main/SECURITY.md#untrusted-models for more details). In a future release, the default value for `weights_only` will be flipped to `True`. This limits the functions that could be executed during unpickling. Arbitrary objects will no longer be allowed to be loaded via this mode unless they are explicitly allowlisted by the user via `torch.serialization.add_safe_globals`. We recommend you start setting `weights_only=True` for any use case where you don't have full control of the loaded file. Please open an issue on GitHub for any issues related to this experimental feature.\n",
      "  last_token_before_wait = torch.load('last_token_before_wait3.pt')\n",
      "/tmp/ipykernel_256502/248964222.py:3: FutureWarning: You are using `torch.load` with `weights_only=False` (the current default value), which uses the default pickle module implicitly. It is possible to construct malicious pickle data which will execute arbitrary code during unpickling (See https://github.com/pytorch/pytorch/blob/main/SECURITY.md#untrusted-models for more details). In a future release, the default value for `weights_only` will be flipped to `True`. This limits the functions that could be executed during unpickling. Arbitrary objects will no longer be allowed to be loaded via this mode unless they are explicitly allowlisted by the user via `torch.serialization.add_safe_globals`. We recommend you start setting `weights_only=True` for any use case where you don't have full control of the loaded file. Please open an issue on GitHub for any issues related to this experimental feature.\n",
      "  unembedding_matrix = torch.load('./save_common_pt/unembedding_matrix_7B.pt')\n"
     ]
    }
   ],
   "source": [
    "last_token_before_wait = torch.load('last_token_before_wait3.pt')\n",
    "# last_token_before_no_wait = torch.load('last_token_before_wo_wait.pt')\n",
    "unembedding_matrix = torch.load('./save_common_pt/unembedding_matrix_7B.pt')\n",
    "# last_token_before_wo_wait = torch.load('last_token_before_wo_wait2.pt')"
   ]
  },
  {
   "cell_type": "code",
   "execution_count": 71,
   "metadata": {},
   "outputs": [
    {
     "name": "stderr",
     "output_type": "stream",
     "text": [
      "  0%|          | 0/29 [00:00<?, ?it/s]"
     ]
    },
    {
     "name": "stdout",
     "output_type": "stream",
     "text": [
      "torch.return_types.topk(\n",
      "values=tensor([[34.4442, 34.1548, 33.0454, 32.7614, 32.6894],\n",
      "        [29.9377, 29.6828, 28.5877, 28.2374, 28.0513],\n",
      "        [50.6681, 41.6015, 40.5407, 39.7558, 38.5367],\n",
      "        [44.8483, 42.3410, 38.3209, 37.3414, 35.6974],\n",
      "        [43.5858, 38.0402, 37.7300, 36.7073, 36.5469],\n",
      "        [39.8190, 38.3588, 37.9600, 37.8474, 37.3483],\n",
      "        [40.4755, 37.3365, 36.3555, 36.1515, 35.8439],\n",
      "        [40.7275, 38.2709, 38.2261, 38.1205, 37.3120],\n",
      "        [39.1513, 38.3095, 38.0626, 38.0134, 36.6637],\n",
      "        [38.8602, 37.5165, 36.7772, 35.2375, 34.6005],\n",
      "        [41.4242, 40.1922, 38.5785, 37.9638, 37.2456],\n",
      "        [39.2162, 38.0098, 37.4870, 37.1154, 36.1609],\n",
      "        [40.6199, 40.4620, 37.2815, 36.8132, 36.5902],\n",
      "        [37.6144, 36.0664, 34.6528, 34.2430, 34.0148],\n",
      "        [42.0404, 38.9795, 38.7331, 38.2692, 38.0011],\n",
      "        [39.2819, 37.3451, 36.9219, 35.9209, 34.2213],\n",
      "        [36.4837, 34.7594, 34.5188, 34.1464, 33.0332],\n",
      "        [38.2882, 37.7499, 37.1377, 36.5627, 35.0591],\n",
      "        [32.8865, 32.7718, 32.4352, 32.0172, 31.0972]], device='cuda:0',\n",
      "       grad_fn=<TopkBackward0>),\n",
      "indices=tensor([[14190,  4416,  5847,  7039, 32313],\n",
      "        [22464,   785, 10061, 14190,  3983],\n",
      "        [14190, 52592,  4498,  2753, 47427],\n",
      "        [14190,  3983,  4416, 80022, 54815],\n",
      "        [14190,  4416,  3983,  9454,  2753],\n",
      "        [14190,   641, 12549,  3983, 92014],\n",
      "        [14190,  1655, 10061, 92014, 46254],\n",
      "        [14190,  3983,  1655,  4416, 10061],\n",
      "        [ 3983, 14190,  4416, 67691, 54815],\n",
      "        [14190,  1655, 88538, 46254,  4416],\n",
      "        [ 3983, 14190, 54815,  4416, 67691],\n",
      "        [14190,  4416,  3983, 80022,  3872],\n",
      "        [ 3983, 14190,  4416, 80022,  3872],\n",
      "        [14190,  2461, 92014, 10061,  1654],\n",
      "        [14190, 92014,  2461,  3983, 10048],\n",
      "        [14190, 10048,  2461, 10061, 45764],\n",
      "        [14190,  1655,  4416,  3983, 12209],\n",
      "        [ 4416, 14190, 54815,  3983, 44500],\n",
      "        [14190, 14037, 92014,   641, 13394]], device='cuda:0'))\n"
     ]
    },
    {
     "name": "stderr",
     "output_type": "stream",
     "text": [
      "\n"
     ]
    }
   ],
   "source": [
    "rank_list = []\n",
    "layers = 29\n",
    "numerical_ranks = []\n",
    "numerical_ranks_no_wait = []\n",
    "for layer in tqdm(range(layers)):\n",
    "    layer = 28\n",
    "    token_before_wait = torch.cat([\n",
    "        x[layer][-1] if x[layer].shape[1] > 1 else x[layer]\n",
    "        for x in last_token_before_wait\n",
    "    ]).squeeze().to(\"cuda:0\").to(torch.float32)\n",
    "    # token_before_no_wait = torch.cat([\n",
    "    #     x[layer][-1] if x[layer].shape[1] > 1 else x[layer]\n",
    "    #     for x in last_token_before_no_wait\n",
    "    # ]).squeeze().to(\"cuda:0\").to(torch.float32)\n",
    "    # Apply logit lens for the current layer\n",
    "    logits = torch.matmul(token_before_wait, unembedding_matrix.T.to(torch.float32))\n",
    "    print(logits.topk(5))\n",
    "    break\n",
    "    log_probs = torch.nn.functional.log_softmax(logits, dim=-1)\n",
    "    rank = torch.argsort(log_probs, dim=-1, descending=True)\n",
    "    counter = Counter(rank[:, 0].cpu().numpy())\n",
    "\n",
    "    top3 = counter.most_common(3)\n",
    "    rank_list.append(top3)\n"
   ]
  },
  {
   "cell_type": "code",
   "execution_count": 63,
   "metadata": {},
   "outputs": [
    {
     "name": "stdout",
     "output_type": "stream",
     "text": [
      "[]\n"
     ]
    }
   ],
   "source": [
    "print(rank_list)"
   ]
  },
  {
   "cell_type": "code",
   "execution_count": 6,
   "metadata": {},
   "outputs": [
    {
     "name": "stdout",
     "output_type": "stream",
     "text": [
      "[['swer', 'AVA'], ['\\ufeffusing'], ['\\ufeffusing'], ['\\ufeffusing'], ['\\ufeffusing'], ['\\ufeffusing', 'โปรแ'], ['\\ufeffusing'], ['\\ufeffusing'], ['\\ufeffusing'], ['\\ufeffusing'], ['\\ufeffusing'], ['\\ufeffusing', 'โปรแ'], ['\\ufeffusing', 'โปรแ'], ['\\ufeffusing', 'โปรแ', ' Diễn'], ['\\ufeffusing', 'โปรแ', ' Diễn'], ['\\ufeffusing'], ['\\ufeffusing', 'โปรแ'], ['\\ufeffusing'], ['\\ufeffusing'], ['\\ufeffusing', 'โปรแ', '\"sync'], ['\\ufeffusing', 'โปรแ'], ['\\ufeffusing', 'โปรแ'], ['\\ufeffusing', 'โปรแ', ' similarly'], ['\\ufeffusing', 'โปรแ'], ['\\ufeffusing', 'โปรแ'], ['\\ufeffusing', 'โปรแ'], ['\\ufeffusing', 'โปรแ'], ['\\ufeffusing', 'โปรแ'], ['Wait', 'But', 'So']]\n"
     ]
    }
   ],
   "source": [
    "# Load the tokenizer (already imported from transformers)\n",
    "model_name = \"deepseek-ai/DeepSeek-R1-Distill-Qwen-7B\"\n",
    "\n",
    "tokenizer = AutoTokenizer.from_pretrained(model_name)\n",
    "char_list = []\n",
    "for layer, tokens in enumerate(rank_list):\n",
    "    char_list.append([])\n",
    "    for token in tokens:\n",
    "        char_list[layer].append(tokenizer.decode(token[0]))\n",
    "print(char_list)"
   ]
  },
  {
   "cell_type": "code",
   "execution_count": null,
   "metadata": {},
   "outputs": [
    {
     "name": "stdout",
     "output_type": "stream",
     "text": [
      "[11489, 14190, 3783, 13824]\n"
     ]
    }
   ],
   "source": [
    "print(wait_list)"
   ]
  },
  {
   "cell_type": "code",
   "execution_count": null,
   "metadata": {},
   "outputs": [
    {
     "data": {
      "text/plain": [
       "'.\\n\\n.\\n\\n.\\n\\n'"
      ]
     },
     "execution_count": 21,
     "metadata": {},
     "output_type": "execute_result"
    }
   ],
   "source": [
    "tokenizer.decode([rank_list[0][0][0], rank_list[1][0][0], rank_list[2][0][0]])"
   ]
  },
  {
   "cell_type": "code",
   "execution_count": null,
   "metadata": {},
   "outputs": [
    {
     "data": {
      "text/plain": [
       "[]"
      ]
     },
     "execution_count": 21,
     "metadata": {},
     "output_type": "execute_result"
    }
   ],
   "source": [
    "tokenizer.additional_special_tokens"
   ]
  },
  {
   "cell_type": "code",
   "execution_count": 1,
   "metadata": {},
   "outputs": [],
   "source": [
    "import torch\n",
    "from tqdm import tqdm\n",
    "from transformers import AutoModelForCausalLM, AutoTokenizer\n",
    "from collections import Counter\n"
   ]
  },
  {
   "cell_type": "code",
   "execution_count": 41,
   "metadata": {},
   "outputs": [
    {
     "name": "stderr",
     "output_type": "stream",
     "text": [
      "Sliding Window Attention is enabled but not implemented for `sdpa`; unexpected results may be encountered.\n"
     ]
    },
    {
     "data": {
      "application/vnd.jupyter.widget-view+json": {
       "model_id": "7d1088e058654001b1d2ae60415e9384",
       "version_major": 2,
       "version_minor": 0
      },
      "text/plain": [
       "Loading checkpoint shards:   0%|          | 0/2 [00:00<?, ?it/s]"
      ]
     },
     "metadata": {},
     "output_type": "display_data"
    },
    {
     "name": "stderr",
     "output_type": "stream",
     "text": [
      "Some parameters are on the meta device because they were offloaded to the cpu.\n"
     ]
    }
   ],
   "source": [
    "model_name = \"deepseek-ai/DeepSeek-R1-Distill-Qwen-7B\"\n",
    "# TODO: why wait and space wait is different, why .\\n\\n is a token instead of .\n",
    "\n",
    "model = AutoModelForCausalLM.from_pretrained(\n",
    "    model_name, device_map=\"auto\", torch_dtype=torch.bfloat16\n",
    ")\n",
    "# last_token_before_wait = torch.load('last_token_before_wait3.pt')"
   ]
  },
  {
   "cell_type": "code",
   "execution_count": 44,
   "metadata": {},
   "outputs": [
    {
     "name": "stdout",
     "output_type": "stream",
     "text": [
      "Unembedding 矩阵第 14190 行最接近的 token: _st\n"
     ]
    }
   ],
   "source": [
    "import torch\n",
    "import torch.nn.functional as F\n",
    "\n",
    "\n",
    "# 计算某一行（假设是 unembedding matrix 第 100 行）\n",
    "index = 14190\n",
    "vector = unembedding_matrix[index]\n",
    "\n",
    "# Select the tokenizer weight\n",
    "embedding_matrix = model.get_input_embeddings().weight\n",
    "W_E = embedding_matrix.detach()  # Detach the embedding matrix to avoid gradients\n",
    "similarities = F.cosine_similarity(vector.unsqueeze(0), W_E, dim=0)\n",
    "most_similar_index = torch.argmax(similarities).item()\n",
    "\n",
    "# 查找 token\n",
    "token = tokenizer.convert_ids_to_tokens(most_similar_index)\n",
    "print(f\"Unembedding 矩阵第 {index} 行最接近的 token: {token}\")\n"
   ]
  },
  {
   "cell_type": "code",
   "execution_count": null,
   "metadata": {},
   "outputs": [],
   "source": []
  },
  {
   "cell_type": "code",
   "execution_count": 4,
   "metadata": {},
   "outputs": [
    {
     "name": "stderr",
     "output_type": "stream",
     "text": [
      "/tmp/ipykernel_274095/984210714.py:1: FutureWarning: You are using `torch.load` with `weights_only=False` (the current default value), which uses the default pickle module implicitly. It is possible to construct malicious pickle data which will execute arbitrary code during unpickling (See https://github.com/pytorch/pytorch/blob/main/SECURITY.md#untrusted-models for more details). In a future release, the default value for `weights_only` will be flipped to `True`. This limits the functions that could be executed during unpickling. Arbitrary objects will no longer be allowed to be loaded via this mode unless they are explicitly allowlisted by the user via `torch.serialization.add_safe_globals`. We recommend you start setting `weights_only=True` for any use case where you don't have full control of the loaded file. Please open an issue on GitHub for any issues related to this experimental feature.\n",
      "  unembedding_matrix = torch.load('./save_common_pt/unembedding_matrix_7B.pt')\n",
      "/tmp/ipykernel_274095/984210714.py:2: FutureWarning: You are using `torch.load` with `weights_only=False` (the current default value), which uses the default pickle module implicitly. It is possible to construct malicious pickle data which will execute arbitrary code during unpickling (See https://github.com/pytorch/pytorch/blob/main/SECURITY.md#untrusted-models for more details). In a future release, the default value for `weights_only` will be flipped to `True`. This limits the functions that could be executed during unpickling. Arbitrary objects will no longer be allowed to be loaded via this mode unless they are explicitly allowlisted by the user via `torch.serialization.add_safe_globals`. We recommend you start setting `weights_only=True` for any use case where you don't have full control of the loaded file. Please open an issue on GitHub for any issues related to this experimental feature.\n",
      "  norm_layer = torch.load('norm_layer.pt')\n"
     ]
    }
   ],
   "source": [
    "unembedding_matrix = torch.load('./save_common_pt/unembedding_matrix_7B.pt')\n",
    "norm_layer = torch.load('norm_layer.pt')"
   ]
  },
  {
   "cell_type": "code",
   "execution_count": 4,
   "metadata": {},
   "outputs": [
    {
     "name": "stderr",
     "output_type": "stream",
     "text": [
      "/tmp/ipykernel_256502/1164291981.py:1: FutureWarning: You are using `torch.load` with `weights_only=False` (the current default value), which uses the default pickle module implicitly. It is possible to construct malicious pickle data which will execute arbitrary code during unpickling (See https://github.com/pytorch/pytorch/blob/main/SECURITY.md#untrusted-models for more details). In a future release, the default value for `weights_only` will be flipped to `True`. This limits the functions that could be executed during unpickling. Arbitrary objects will no longer be allowed to be loaded via this mode unless they are explicitly allowlisted by the user via `torch.serialization.add_safe_globals`. We recommend you start setting `weights_only=True` for any use case where you don't have full control of the loaded file. Please open an issue on GitHub for any issues related to this experimental feature.\n",
      "  rotary_emb_layer = torch.load('rotary_emb_layer.pt')\n"
     ]
    }
   ],
   "source": [
    "rotary_emb_layer = torch.load('rotary_emb_layer.pt')"
   ]
  },
  {
   "cell_type": "code",
   "execution_count": 5,
   "metadata": {},
   "outputs": [
    {
     "name": "stderr",
     "output_type": "stream",
     "text": [
      "/tmp/ipykernel_256502/3378495784.py:1: FutureWarning: You are using `torch.load` with `weights_only=False` (the current default value), which uses the default pickle module implicitly. It is possible to construct malicious pickle data which will execute arbitrary code during unpickling (See https://github.com/pytorch/pytorch/blob/main/SECURITY.md#untrusted-models for more details). In a future release, the default value for `weights_only` will be flipped to `True`. This limits the functions that could be executed during unpickling. Arbitrary objects will no longer be allowed to be loaded via this mode unless they are explicitly allowlisted by the user via `torch.serialization.add_safe_globals`. We recommend you start setting `weights_only=True` for any use case where you don't have full control of the loaded file. Please open an issue on GitHub for any issues related to this experimental feature.\n",
      "  lm_head = torch.load('lm_head.pt')\n"
     ]
    }
   ],
   "source": [
    "lm_head = torch.load('lm_head.pt')\n",
    "# model.lm_head.load_state_dict(lm_head)"
   ]
  },
  {
   "cell_type": "code",
   "execution_count": 45,
   "metadata": {},
   "outputs": [
    {
     "name": "stdout",
     "output_type": "stream",
     "text": [
      "19\n"
     ]
    }
   ],
   "source": [
    "print(len(last_token_before_wait))"
   ]
  },
  {
   "cell_type": "code",
   "execution_count": 52,
   "metadata": {},
   "outputs": [],
   "source": [
    "rank_list = []\n",
    "layers = 29\n",
    "numerical_ranks = []\n",
    "numerical_ranks_no_wait = []\n",
    "for layer in range(layers):\n",
    "    token_before_wait = torch.cat([\n",
    "        x[layer][-1] if x[layer].shape[1] > 1 else x[layer]\n",
    "        for x in last_token_before_wait\n",
    "    ]).squeeze().to(\"cuda:0\")\n",
    "    # token_before_wait = token_before_wait * norm_layer['weight']\n",
    "    # token_before_wait = token_before_wait * rotary_emb_layer.get('weight', torch.ones_like(token_before_wait))\n",
    "    logits = torch.matmul(token_before_wait, unembedding_matrix.T)\n",
    "    log_probs = torch.nn.functional.log_softmax(logits, dim=-1)\n",
    "    rank = torch.argsort(log_probs, dim=-1, descending=True)\n",
    "    counter = Counter(rank[:, 0].cpu().numpy())\n",
    "\n",
    "    top3 = counter.most_common(3)\n",
    "    rank_list.append(top3)\n"
   ]
  },
  {
   "cell_type": "code",
   "execution_count": null,
   "metadata": {},
   "outputs": [],
   "source": [
    "[11489, 14190, 3783, 13824]\n"
   ]
  },
  {
   "cell_type": "code",
   "execution_count": 53,
   "metadata": {},
   "outputs": [
    {
     "name": "stdout",
     "output_type": "stream",
     "text": [
      "[[' Laura'], ['\\ufeffusing'], ['\\ufeffusing'], ['\\ufeffusing'], ['\\ufeffusing'], ['\\ufeffusing'], ['\\ufeffusing'], ['\\ufeffusing'], ['\\ufeffusing'], ['\\ufeffusing'], ['\\ufeffusing'], ['\\ufeffusing'], ['\\ufeffusing'], ['\\ufeffusing'], ['\\ufeffusing'], ['\\ufeffusing'], ['\\ufeffusing'], ['\\ufeffusing'], ['\\ufeffusing'], ['\\ufeffusing'], ['\\ufeffusing'], ['\\ufeffusing'], ['\\ufeffusing'], ['\\ufeffusing'], ['\\ufeffusing'], ['\\ufeffusing'], ['\\ufeffusing'], ['\\ufeffusing'], [',']]\n"
     ]
    }
   ],
   "source": [
    "# Load the tokenizer (already imported from transformers)\n",
    "model_name = \"deepseek-ai/DeepSeek-R1-Distill-Qwen-7B\"\n",
    "\n",
    "tokenizer = AutoTokenizer.from_pretrained(model_name)\n",
    "char_list = []\n",
    "for layer, tokens in enumerate(rank_list):\n",
    "    char_list.append([])\n",
    "    for token in tokens:\n",
    "        char_list[layer].append(tokenizer.decode(token[0]))\n",
    "print(char_list)"
   ]
  },
  {
   "cell_type": "code",
   "execution_count": 50,
   "metadata": {},
   "outputs": [
    {
     "name": "stdout",
     "output_type": "stream",
     "text": [
      "[[(11, 19)]]\n"
     ]
    }
   ],
   "source": [
    "print(rank_list)"
   ]
  },
  {
   "cell_type": "code",
   "execution_count": 7,
   "metadata": {},
   "outputs": [],
   "source": [
    "selected_layers = [model.model.norm, model.model.rotary_emb]\n",
    "torch.save(selected_layers[0].state_dict(), 'norm_layer.pt')\n",
    "torch.save(selected_layers[1].state_dict(), 'rotary_emb_layer.pt')"
   ]
  },
  {
   "cell_type": "code",
   "execution_count": 27,
   "metadata": {},
   "outputs": [
    {
     "name": "stdout",
     "output_type": "stream",
     "text": [
      "Qwen2ForCausalLM(\n",
      "  (model): Qwen2Model(\n",
      "    (embed_tokens): Embedding(152064, 3584)\n",
      "    (layers): ModuleList(\n",
      "      (0-27): 28 x Qwen2DecoderLayer(\n",
      "        (self_attn): Qwen2Attention(\n",
      "          (q_proj): Linear(in_features=3584, out_features=3584, bias=True)\n",
      "          (k_proj): Linear(in_features=3584, out_features=512, bias=True)\n",
      "          (v_proj): Linear(in_features=3584, out_features=512, bias=True)\n",
      "          (o_proj): Linear(in_features=3584, out_features=3584, bias=False)\n",
      "        )\n",
      "        (mlp): Qwen2MLP(\n",
      "          (gate_proj): Linear(in_features=3584, out_features=18944, bias=False)\n",
      "          (up_proj): Linear(in_features=3584, out_features=18944, bias=False)\n",
      "          (down_proj): Linear(in_features=18944, out_features=3584, bias=False)\n",
      "          (act_fn): SiLU()\n",
      "        )\n",
      "        (input_layernorm): Qwen2RMSNorm((3584,), eps=1e-06)\n",
      "        (post_attention_layernorm): Qwen2RMSNorm((3584,), eps=1e-06)\n",
      "      )\n",
      "    )\n",
      "    (norm): Qwen2RMSNorm((3584,), eps=1e-06)\n",
      "    (rotary_emb): Qwen2RotaryEmbedding()\n",
      "  )\n",
      "  (lm_head): Linear(in_features=3584, out_features=152064, bias=False)\n",
      ")\n"
     ]
    }
   ],
   "source": [
    "print(model)"
   ]
  },
  {
   "cell_type": "code",
   "execution_count": 3,
   "metadata": {},
   "outputs": [
    {
     "name": "stderr",
     "output_type": "stream",
     "text": [
      "/tmp/ipykernel_274541/2066913298.py:1: FutureWarning: You are using `torch.load` with `weights_only=False` (the current default value), which uses the default pickle module implicitly. It is possible to construct malicious pickle data which will execute arbitrary code during unpickling (See https://github.com/pytorch/pytorch/blob/main/SECURITY.md#untrusted-models for more details). In a future release, the default value for `weights_only` will be flipped to `True`. This limits the functions that could be executed during unpickling. Arbitrary objects will no longer be allowed to be loaded via this mode unless they are explicitly allowlisted by the user via `torch.serialization.add_safe_globals`. We recommend you start setting `weights_only=True` for any use case where you don't have full control of the loaded file. Please open an issue on GitHub for any issues related to this experimental feature.\n",
      "  embedding_matrix = torch.load('./save_common_pt/embedding_matrix_7B.pt')\n",
      "/tmp/ipykernel_274541/2066913298.py:2: FutureWarning: You are using `torch.load` with `weights_only=False` (the current default value), which uses the default pickle module implicitly. It is possible to construct malicious pickle data which will execute arbitrary code during unpickling (See https://github.com/pytorch/pytorch/blob/main/SECURITY.md#untrusted-models for more details). In a future release, the default value for `weights_only` will be flipped to `True`. This limits the functions that could be executed during unpickling. Arbitrary objects will no longer be allowed to be loaded via this mode unless they are explicitly allowlisted by the user via `torch.serialization.add_safe_globals`. We recommend you start setting `weights_only=True` for any use case where you don't have full control of the loaded file. Please open an issue on GitHub for any issues related to this experimental feature.\n",
      "  unembedding_matrix = torch.load('./save_common_pt/unembedding_matrix_7B.pt')\n"
     ]
    },
    {
     "name": "stdout",
     "output_type": "stream",
     "text": [
      "Are embedding and unembedding matrices identical? False\n"
     ]
    }
   ],
   "source": [
    "embedding_matrix = torch.load('./save_common_pt/embedding_matrix_7B.pt')\n",
    "unembedding_matrix = torch.load('./save_common_pt/unembedding_matrix_7B.pt')\n",
    "\n",
    "are_identical = torch.allclose(embedding_matrix, unembedding_matrix, atol=1e-6)\n",
    "print(\"Are embedding and unembedding matrices identical?\", are_identical)\n"
   ]
  },
  {
   "cell_type": "code",
   "execution_count": null,
   "metadata": {},
   "outputs": [
    {
     "name": "stdout",
     "output_type": "stream",
     "text": [
      "Linear(in_features=3584, out_features=152064, bias=False)\n"
     ]
    }
   ],
   "source": [
    "# Assuming the model is loaded as `model`\n",
    "lm_head = model.lm_head\n",
    "print(lm_head)\n",
    "\n",
    "torch.save(lm_head.state_dict(), 'lm_head.pt')"
   ]
  },
  {
   "cell_type": "code",
   "execution_count": null,
   "metadata": {},
   "outputs": [],
   "source": [
    "unembedding_matrix = model.lm_head.weight\n",
    "print(unembedding_matrix)"
   ]
  },
  {
   "cell_type": "code",
   "execution_count": null,
   "metadata": {},
   "outputs": [],
   "source": []
  },
  {
   "cell_type": "code",
   "execution_count": null,
   "metadata": {},
   "outputs": [],
   "source": []
  }
 ],
 "metadata": {
  "kernelspec": {
   "display_name": ".venv",
   "language": "python",
   "name": "python3"
  },
  "language_info": {
   "codemirror_mode": {
    "name": "ipython",
    "version": 3
   },
   "file_extension": ".py",
   "mimetype": "text/x-python",
   "name": "python",
   "nbconvert_exporter": "python",
   "pygments_lexer": "ipython3",
   "version": "3.12.0"
  }
 },
 "nbformat": 4,
 "nbformat_minor": 2
}
