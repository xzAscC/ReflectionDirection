{
 "cells": [
  {
   "cell_type": "code",
   "execution_count": 2,
   "metadata": {},
   "outputs": [],
   "source": [
    "import torch\n",
    "from tqdm import tqdm\n",
    "from transformers import AutoModelForCausalLM, AutoTokenizer\n",
    "from collections import Counter\n"
   ]
  },
  {
   "cell_type": "code",
   "execution_count": 8,
   "metadata": {},
   "outputs": [
    {
     "name": "stderr",
     "output_type": "stream",
     "text": [
      "/tmp/ipykernel_211507/1185413857.py:2: FutureWarning: You are using `torch.load` with `weights_only=False` (the current default value), which uses the default pickle module implicitly. It is possible to construct malicious pickle data which will execute arbitrary code during unpickling (See https://github.com/pytorch/pytorch/blob/main/SECURITY.md#untrusted-models for more details). In a future release, the default value for `weights_only` will be flipped to `True`. This limits the functions that could be executed during unpickling. Arbitrary objects will no longer be allowed to be loaded via this mode unless they are explicitly allowlisted by the user via `torch.serialization.add_safe_globals`. We recommend you start setting `weights_only=True` for any use case where you don't have full control of the loaded file. Please open an issue on GitHub for any issues related to this experimental feature.\n",
      "  last_token_before_wo_wait = torch.load('tmp.pt')\n"
     ]
    }
   ],
   "source": [
    "# unembedding_matrix = torch.load('./save_common_pt/unembedding_matrix_7B.pt')\n",
    "last_token_before_wo_wait = torch.load('tmp.pt')\n"
   ]
  },
  {
   "cell_type": "code",
   "execution_count": 10,
   "metadata": {},
   "outputs": [
    {
     "name": "stderr",
     "output_type": "stream",
     "text": [
      "100%|██████████| 29/29 [05:56<00:00, 12.28s/it]\n"
     ]
    }
   ],
   "source": [
    "rank_list = []\n",
    "layers = 29\n",
    "numerical_ranks = []\n",
    "numerical_ranks_no_wait = []\n",
    "for layer in tqdm(range(layers)):\n",
    "    token_before_wait = torch.cat([\n",
    "        x[layer][-1] if x[layer].shape[1] > 1 else x[layer]\n",
    "        for x in last_token_before_wo_wait\n",
    "    ]).squeeze().to(\"cuda:0\")\n",
    "    words = []\n",
    "    for token in token_before_wait:\n",
    "        logits = torch.matmul(token, unembedding_matrix.T)\n",
    "        log_probs = torch.nn.functional.log_softmax(logits, dim=-1)\n",
    "        rank = torch.argsort(log_probs, dim=-1, descending=True)[0].item()\n",
    "        words.append(rank)\n",
    "    \n",
    "    # token_before_no_wait = torch.cat([\n",
    "    #     x[layer][-1] if x[layer].shape[1] > 1 else x[layer]\n",
    "    #     for x in last_token_before_no_wait\n",
    "    # ]).squeeze().to(\"cuda:0\").to(torch.float32)\n",
    "    # Apply logit lens for the current layer\n",
    "    # logits = torch.matmul(token_before_wait, unembedding_matrix.T)\n",
    "    # log_probs = torch.nn.functional.log_softmax(logits, dim=-1)\n",
    "    # rank = torch.argsort(log_probs, dim=-1, descending=True)\n",
    "    counter = Counter(words)\n",
    "\n",
    "    top3 = counter.most_common(3)\n",
    "    rank_list.append(top3)\n"
   ]
  },
  {
   "cell_type": "markdown",
   "metadata": {},
   "source": []
  },
  {
   "cell_type": "code",
   "execution_count": null,
   "metadata": {
    "vscode": {
     "languageId": "markdown"
    }
   },
   "outputs": [],
   "source": []
  },
  {
   "cell_type": "code",
   "execution_count": 23,
   "metadata": {},
   "outputs": [
    {
     "name": "stdout",
     "output_type": "stream",
     "text": [
      "419\n"
     ]
    }
   ],
   "source": [
    "print(len(last_token_before_wo_wait))"
   ]
  },
  {
   "cell_type": "code",
   "execution_count": 11,
   "metadata": {},
   "outputs": [
    {
     "name": "stdout",
     "output_type": "stream",
     "text": [
      "[[(3559, 9647), (4510, 4), (526, 3)], [(4028, 9655), (87965, 12), (130457, 11)], [(4028, 9683), (87965, 3), (68106, 2)], [(4028, 9683), (133129, 3), (121555, 1)], [(4028, 9675), (133129, 7), (121555, 3)], [(4028, 9682), (133129, 7)], [(4028, 9688), (133129, 1)], [(4028, 9686), (133129, 3)], [(4028, 9662), (71720, 12), (53566, 4)], [(4028, 9672), (71720, 6), (133129, 3)], [(4028, 9684), (133129, 3), (87965, 1)], [(4028, 9665), (133129, 13), (87965, 6)], [(4028, 9644), (133129, 36), (71720, 5)], [(4028, 9616), (133129, 42), (71720, 11)], [(4028, 9567), (71720, 51), (133129, 33)], [(4028, 9657), (71720, 16), (133129, 12)], [(4028, 9619), (71720, 44), (133129, 15)], [(4028, 9637), (71720, 30), (133129, 13)], [(4028, 9646), (71720, 25), (133129, 13)], [(4028, 9502), (71720, 86), (133129, 68)], [(4028, 9596), (133129, 67), (71720, 24)], [(4028, 9541), (133129, 129), (71720, 18)], [(4028, 9451), (133129, 223), (29193, 11)], [(4028, 9410), (133129, 266), (71720, 7)], [(4028, 9542), (133129, 146), (71720, 1)], [(4028, 9493), (133129, 195), (71720, 1)], [(4028, 9250), (133129, 439)], [(4028, 9497), (133129, 190), (28038, 2)], [(4416, 1380), (257, 716), (3983, 645)]]\n"
     ]
    }
   ],
   "source": [
    "print(rank_list)"
   ]
  },
  {
   "cell_type": "code",
   "execution_count": 12,
   "metadata": {},
   "outputs": [
    {
     "name": "stdout",
     "output_type": "stream",
     "text": [
      "[['swer', ' py', ' int'], ['\\ufeffusing', '\"crypto', 'tör'], ['\\ufeffusing', '\"crypto', \" './../../\"], ['\\ufeffusing', 'โปรแ', '鋆'], ['\\ufeffusing', 'โปรแ', '鋆'], ['\\ufeffusing', 'โปรแ'], ['\\ufeffusing', 'โปรแ'], ['\\ufeffusing', 'โปรแ'], ['\\ufeffusing', '\"sync', '>NN'], ['\\ufeffusing', '\"sync', 'โปรแ'], ['\\ufeffusing', 'โปรแ', '\"crypto'], ['\\ufeffusing', 'โปรแ', '\"crypto'], ['\\ufeffusing', 'โปรแ', '\"sync'], ['\\ufeffusing', 'โปรแ', '\"sync'], ['\\ufeffusing', '\"sync', 'โปรแ'], ['\\ufeffusing', '\"sync', 'โปรแ'], ['\\ufeffusing', '\"sync', 'โปรแ'], ['\\ufeffusing', '\"sync', 'โปรแ'], ['\\ufeffusing', '\"sync', 'โปรแ'], ['\\ufeffusing', '\"sync', 'โปรแ'], ['\\ufeffusing', 'โปรแ', '\"sync'], ['\\ufeffusing', 'โปรแ', '\"sync'], ['\\ufeffusing', 'โปรแ', ' similarly'], ['\\ufeffusing', 'โปรแ', '\"sync'], ['\\ufeffusing', 'โปรแ', '\"sync'], ['\\ufeffusing', 'โปรแ', '\"sync'], ['\\ufeffusing', 'โปรแ'], ['\\ufeffusing', 'โปรแ', ' )\\n\\n\\n\\n\\n\\n\\n\\n'], ['So', '    ', 'But']]\n"
     ]
    }
   ],
   "source": [
    "# Load the tokenizer (already imported from transformers)\n",
    "model_name = \"deepseek-ai/DeepSeek-R1-Distill-Qwen-7B\"\n",
    "\n",
    "tokenizer = AutoTokenizer.from_pretrained(model_name)\n",
    "char_list = []\n",
    "for layer, tokens in enumerate(rank_list):\n",
    "    char_list.append([])\n",
    "    for token in tokens:\n",
    "        char_list[layer].append(tokenizer.decode(token[0]))\n",
    "print(char_list)"
   ]
  },
  {
   "cell_type": "code",
   "execution_count": 13,
   "metadata": {},
   "outputs": [
    {
     "name": "stdout",
     "output_type": "stream",
     "text": [
      "layer0: ['swer', ' py', ' int']\n",
      "layer1: ['\\ufeffusing', '\"crypto', 'tör']\n",
      "layer2: ['\\ufeffusing', '\"crypto', \" './../../\"]\n",
      "layer3: ['\\ufeffusing', 'โปรแ', '鋆']\n",
      "layer4: ['\\ufeffusing', 'โปรแ', '鋆']\n",
      "layer5: ['\\ufeffusing', 'โปรแ']\n",
      "layer6: ['\\ufeffusing', 'โปรแ']\n",
      "layer7: ['\\ufeffusing', 'โปรแ']\n",
      "layer8: ['\\ufeffusing', '\"sync', '>NN']\n",
      "layer9: ['\\ufeffusing', '\"sync', 'โปรแ']\n",
      "layer10: ['\\ufeffusing', 'โปรแ', '\"crypto']\n",
      "layer11: ['\\ufeffusing', 'โปรแ', '\"crypto']\n",
      "layer12: ['\\ufeffusing', 'โปรแ', '\"sync']\n",
      "layer13: ['\\ufeffusing', 'โปรแ', '\"sync']\n",
      "layer14: ['\\ufeffusing', '\"sync', 'โปรแ']\n",
      "layer15: ['\\ufeffusing', '\"sync', 'โปรแ']\n",
      "layer16: ['\\ufeffusing', '\"sync', 'โปรแ']\n",
      "layer17: ['\\ufeffusing', '\"sync', 'โปรแ']\n",
      "layer18: ['\\ufeffusing', '\"sync', 'โปรแ']\n",
      "layer19: ['\\ufeffusing', '\"sync', 'โปรแ']\n",
      "layer20: ['\\ufeffusing', 'โปรแ', '\"sync']\n",
      "layer21: ['\\ufeffusing', 'โปรแ', '\"sync']\n",
      "layer22: ['\\ufeffusing', 'โปรแ', ' similarly']\n",
      "layer23: ['\\ufeffusing', 'โปรแ', '\"sync']\n",
      "layer24: ['\\ufeffusing', 'โปรแ', '\"sync']\n",
      "layer25: ['\\ufeffusing', 'โปรแ', '\"sync']\n",
      "layer26: ['\\ufeffusing', 'โปรแ']\n",
      "layer27: ['\\ufeffusing', 'โปรแ', ' )\\n\\n\\n\\n\\n\\n\\n\\n']\n",
      "layer28: ['So', '    ', 'But']\n"
     ]
    }
   ],
   "source": [
    "for idx, char_ in enumerate(char_list):\n",
    "    print(f\"layer{idx}: {char_}\")"
   ]
  },
  {
   "cell_type": "code",
   "execution_count": 7,
   "metadata": {},
   "outputs": [
    {
     "name": "stdout",
     "output_type": "stream",
     "text": [
      "layer0: ['swer', 'AVA']\n",
      "layer1: ['\\ufeffusing']\n",
      "layer2: ['\\ufeffusing']\n",
      "layer3: ['\\ufeffusing']\n",
      "layer4: ['\\ufeffusing']\n",
      "layer5: ['\\ufeffusing', 'โปรแ']\n",
      "layer6: ['\\ufeffusing']\n",
      "layer7: ['\\ufeffusing']\n",
      "layer8: ['\\ufeffusing']\n",
      "layer9: ['\\ufeffusing']\n",
      "layer10: ['\\ufeffusing']\n",
      "layer11: ['\\ufeffusing', 'โปรแ']\n",
      "layer12: ['\\ufeffusing', 'โปรแ']\n",
      "layer13: ['\\ufeffusing', 'โปรแ', ' Diễn']\n",
      "layer14: ['\\ufeffusing', 'โปรแ', ' Diễn']\n",
      "layer15: ['\\ufeffusing']\n",
      "layer16: ['\\ufeffusing', 'โปรแ']\n",
      "layer17: ['\\ufeffusing']\n",
      "layer18: ['\\ufeffusing']\n",
      "layer19: ['\\ufeffusing', 'โปรแ', '\"sync']\n",
      "layer20: ['\\ufeffusing', 'โปรแ']\n",
      "layer21: ['\\ufeffusing', 'โปรแ']\n",
      "layer22: ['\\ufeffusing', 'โปรแ', ' similarly']\n",
      "layer23: ['\\ufeffusing', 'โปรแ']\n",
      "layer24: ['\\ufeffusing', 'โปรแ']\n",
      "layer25: ['\\ufeffusing', 'โปรแ']\n",
      "layer26: ['\\ufeffusing', 'โปรแ']\n",
      "layer27: ['\\ufeffusing', 'โปรแ']\n",
      "layer28: ['Wait', 'But', 'So']\n"
     ]
    }
   ],
   "source": [
    "pos_char_list = [['swer', 'AVA'], ['\\ufeffusing'], ['\\ufeffusing'], ['\\ufeffusing'], ['\\ufeffusing'], ['\\ufeffusing', 'โปรแ'], ['\\ufeffusing'], ['\\ufeffusing'], ['\\ufeffusing'], ['\\ufeffusing'], ['\\ufeffusing'], ['\\ufeffusing', 'โปรแ'], ['\\ufeffusing', 'โปรแ'], ['\\ufeffusing', 'โปรแ', ' Diễn'], ['\\ufeffusing', 'โปรแ', ' Diễn'], ['\\ufeffusing'], ['\\ufeffusing', 'โปรแ'], ['\\ufeffusing'], ['\\ufeffusing'], ['\\ufeffusing', 'โปรแ', '\"sync'], ['\\ufeffusing', 'โปรแ'], ['\\ufeffusing', 'โปรแ'], ['\\ufeffusing', 'โปรแ', ' similarly'], ['\\ufeffusing', 'โปรแ'], ['\\ufeffusing', 'โปรแ'], ['\\ufeffusing', 'โปรแ'], ['\\ufeffusing', 'โปรแ'], ['\\ufeffusing', 'โปรแ'], ['Wait', 'But', 'So']]\n",
    "\n",
    "for idx, char_ in enumerate(pos_char_list):\n",
    "    print(f\"layer{idx}: {char_}\")"
   ]
  },
  {
   "cell_type": "code",
   "execution_count": 3,
   "metadata": {},
   "outputs": [
    {
     "name": "stderr",
     "output_type": "stream",
     "text": [
      "/tmp/ipykernel_211507/988955994.py:1: FutureWarning: You are using `torch.load` with `weights_only=False` (the current default value), which uses the default pickle module implicitly. It is possible to construct malicious pickle data which will execute arbitrary code during unpickling (See https://github.com/pytorch/pytorch/blob/main/SECURITY.md#untrusted-models for more details). In a future release, the default value for `weights_only` will be flipped to `True`. This limits the functions that could be executed during unpickling. Arbitrary objects will no longer be allowed to be loaded via this mode unless they are explicitly allowlisted by the user via `torch.serialization.add_safe_globals`. We recommend you start setting `weights_only=True` for any use case where you don't have full control of the loaded file. Please open an issue on GitHub for any issues related to this experimental feature.\n",
      "  last_token_before_wait = torch.load('last_token_before_wait2.pt')\n",
      "/tmp/ipykernel_211507/988955994.py:3: FutureWarning: You are using `torch.load` with `weights_only=False` (the current default value), which uses the default pickle module implicitly. It is possible to construct malicious pickle data which will execute arbitrary code during unpickling (See https://github.com/pytorch/pytorch/blob/main/SECURITY.md#untrusted-models for more details). In a future release, the default value for `weights_only` will be flipped to `True`. This limits the functions that could be executed during unpickling. Arbitrary objects will no longer be allowed to be loaded via this mode unless they are explicitly allowlisted by the user via `torch.serialization.add_safe_globals`. We recommend you start setting `weights_only=True` for any use case where you don't have full control of the loaded file. Please open an issue on GitHub for any issues related to this experimental feature.\n",
      "  unembedding_matrix = torch.load('./save_common_pt/unembedding_matrix_7B.pt')\n"
     ]
    }
   ],
   "source": [
    "last_token_before_wait = torch.load('last_token_before_wait2.pt')\n",
    "# last_token_before_no_wait = torch.load('last_token_before_wo_wait.pt')\n",
    "unembedding_matrix = torch.load('./save_common_pt/unembedding_matrix_7B.pt')\n",
    "# last_token_before_wo_wait = torch.load('last_token_before_wo_wait2.pt')"
   ]
  },
  {
   "cell_type": "code",
   "execution_count": 4,
   "metadata": {},
   "outputs": [
    {
     "name": "stderr",
     "output_type": "stream",
     "text": [
      "100%|██████████| 29/29 [00:01<00:00, 20.89it/s]\n"
     ]
    }
   ],
   "source": [
    "rank_list = []\n",
    "layers = 29\n",
    "numerical_ranks = []\n",
    "numerical_ranks_no_wait = []\n",
    "for layer in tqdm(range(layers)):\n",
    "    token_before_wait = torch.cat([\n",
    "        x[layer][-1] if x[layer].shape[1] > 1 else x[layer]\n",
    "        for x in last_token_before_wait\n",
    "    ]).squeeze().to(\"cuda:0\")\n",
    "    # token_before_no_wait = torch.cat([\n",
    "    #     x[layer][-1] if x[layer].shape[1] > 1 else x[layer]\n",
    "    #     for x in last_token_before_no_wait\n",
    "    # ]).squeeze().to(\"cuda:0\").to(torch.float32)\n",
    "    # Apply logit lens for the current layer\n",
    "    logits = torch.matmul(token_before_wait, unembedding_matrix.T)\n",
    "    log_probs = torch.nn.functional.log_softmax(logits, dim=-1)\n",
    "    rank = torch.argsort(log_probs, dim=-1, descending=True)\n",
    "    counter = Counter(rank[:, 0].cpu().numpy())\n",
    "\n",
    "    top3 = counter.most_common(3)\n",
    "    rank_list.append(top3)\n"
   ]
  },
  {
   "cell_type": "code",
   "execution_count": 5,
   "metadata": {},
   "outputs": [
    {
     "name": "stdout",
     "output_type": "stream",
     "text": [
      "[[(3559, 1981), (35610, 1)], [(4028, 1982)], [(4028, 1982)], [(4028, 1982)], [(4028, 1982)], [(4028, 1980), (133129, 2)], [(4028, 1982)], [(4028, 1982)], [(4028, 1982)], [(4028, 1982)], [(4028, 1982)], [(4028, 1981), (133129, 1)], [(4028, 1979), (133129, 3)], [(4028, 1975), (133129, 6), (141351, 1)], [(4028, 1979), (133129, 2), (141351, 1)], [(4028, 1982)], [(4028, 1981), (133129, 1)], [(4028, 1982)], [(4028, 1982)], [(4028, 1959), (133129, 18), (71720, 3)], [(4028, 1966), (133129, 16)], [(4028, 1971), (133129, 11)], [(4028, 1966), (133129, 15), (29193, 1)], [(4028, 1973), (133129, 9)], [(4028, 1976), (133129, 6)], [(4028, 1975), (133129, 7)], [(4028, 1954), (133129, 28)], [(4028, 1969), (133129, 13)], [(14190, 1515), (3983, 151), (4416, 79)]]\n"
     ]
    }
   ],
   "source": [
    "print(rank_list)"
   ]
  },
  {
   "cell_type": "code",
   "execution_count": 6,
   "metadata": {},
   "outputs": [
    {
     "name": "stdout",
     "output_type": "stream",
     "text": [
      "[['swer', 'AVA'], ['\\ufeffusing'], ['\\ufeffusing'], ['\\ufeffusing'], ['\\ufeffusing'], ['\\ufeffusing', 'โปรแ'], ['\\ufeffusing'], ['\\ufeffusing'], ['\\ufeffusing'], ['\\ufeffusing'], ['\\ufeffusing'], ['\\ufeffusing', 'โปรแ'], ['\\ufeffusing', 'โปรแ'], ['\\ufeffusing', 'โปรแ', ' Diễn'], ['\\ufeffusing', 'โปรแ', ' Diễn'], ['\\ufeffusing'], ['\\ufeffusing', 'โปรแ'], ['\\ufeffusing'], ['\\ufeffusing'], ['\\ufeffusing', 'โปรแ', '\"sync'], ['\\ufeffusing', 'โปรแ'], ['\\ufeffusing', 'โปรแ'], ['\\ufeffusing', 'โปรแ', ' similarly'], ['\\ufeffusing', 'โปรแ'], ['\\ufeffusing', 'โปรแ'], ['\\ufeffusing', 'โปรแ'], ['\\ufeffusing', 'โปรแ'], ['\\ufeffusing', 'โปรแ'], ['Wait', 'But', 'So']]\n"
     ]
    }
   ],
   "source": [
    "# Load the tokenizer (already imported from transformers)\n",
    "model_name = \"deepseek-ai/DeepSeek-R1-Distill-Qwen-7B\"\n",
    "\n",
    "tokenizer = AutoTokenizer.from_pretrained(model_name)\n",
    "char_list = []\n",
    "for layer, tokens in enumerate(rank_list):\n",
    "    char_list.append([])\n",
    "    for token in tokens:\n",
    "        char_list[layer].append(tokenizer.decode(token[0]))\n",
    "print(char_list)"
   ]
  },
  {
   "cell_type": "code",
   "execution_count": null,
   "metadata": {},
   "outputs": [
    {
     "name": "stdout",
     "output_type": "stream",
     "text": [
      "[11489, 14190, 3783, 13824]\n"
     ]
    }
   ],
   "source": [
    "print(wait_list)"
   ]
  },
  {
   "cell_type": "code",
   "execution_count": null,
   "metadata": {},
   "outputs": [
    {
     "data": {
      "text/plain": [
       "'.\\n\\n.\\n\\n.\\n\\n'"
      ]
     },
     "execution_count": 21,
     "metadata": {},
     "output_type": "execute_result"
    }
   ],
   "source": [
    "tokenizer.decode([rank_list[0][0][0], rank_list[1][0][0], rank_list[2][0][0]])"
   ]
  },
  {
   "cell_type": "code",
   "execution_count": null,
   "metadata": {},
   "outputs": [
    {
     "data": {
      "text/plain": [
       "[]"
      ]
     },
     "execution_count": 21,
     "metadata": {},
     "output_type": "execute_result"
    }
   ],
   "source": [
    "tokenizer.additional_special_tokens"
   ]
  },
  {
   "cell_type": "code",
   "execution_count": 26,
   "metadata": {},
   "outputs": [
    {
     "name": "stderr",
     "output_type": "stream",
     "text": [
      "Sliding Window Attention is enabled but not implemented for `sdpa`; unexpected results may be encountered.\n"
     ]
    },
    {
     "data": {
      "application/vnd.jupyter.widget-view+json": {
       "model_id": "824c77ee7ae74ab9a1dd9d0af1889f81",
       "version_major": 2,
       "version_minor": 0
      },
      "text/plain": [
       "Loading checkpoint shards:   0%|          | 0/2 [00:00<?, ?it/s]"
      ]
     },
     "metadata": {},
     "output_type": "display_data"
    },
    {
     "name": "stderr",
     "output_type": "stream",
     "text": [
      "Some parameters are on the meta device because they were offloaded to the cpu.\n"
     ]
    }
   ],
   "source": [
    "model_name = \"deepseek-ai/DeepSeek-R1-Distill-Qwen-7B\"\n",
    "# TODO: why wait and space wait is different, why .\\n\\n is a token instead of .\n",
    "\n",
    "model = AutoModelForCausalLM.from_pretrained(\n",
    "    model_name, device_map=\"auto\", torch_dtype=torch.bfloat16\n",
    ")"
   ]
  },
  {
   "cell_type": "code",
   "execution_count": 27,
   "metadata": {},
   "outputs": [
    {
     "name": "stdout",
     "output_type": "stream",
     "text": [
      "Qwen2ForCausalLM(\n",
      "  (model): Qwen2Model(\n",
      "    (embed_tokens): Embedding(152064, 3584)\n",
      "    (layers): ModuleList(\n",
      "      (0-27): 28 x Qwen2DecoderLayer(\n",
      "        (self_attn): Qwen2Attention(\n",
      "          (q_proj): Linear(in_features=3584, out_features=3584, bias=True)\n",
      "          (k_proj): Linear(in_features=3584, out_features=512, bias=True)\n",
      "          (v_proj): Linear(in_features=3584, out_features=512, bias=True)\n",
      "          (o_proj): Linear(in_features=3584, out_features=3584, bias=False)\n",
      "        )\n",
      "        (mlp): Qwen2MLP(\n",
      "          (gate_proj): Linear(in_features=3584, out_features=18944, bias=False)\n",
      "          (up_proj): Linear(in_features=3584, out_features=18944, bias=False)\n",
      "          (down_proj): Linear(in_features=18944, out_features=3584, bias=False)\n",
      "          (act_fn): SiLU()\n",
      "        )\n",
      "        (input_layernorm): Qwen2RMSNorm((3584,), eps=1e-06)\n",
      "        (post_attention_layernorm): Qwen2RMSNorm((3584,), eps=1e-06)\n",
      "      )\n",
      "    )\n",
      "    (norm): Qwen2RMSNorm((3584,), eps=1e-06)\n",
      "    (rotary_emb): Qwen2RotaryEmbedding()\n",
      "  )\n",
      "  (lm_head): Linear(in_features=3584, out_features=152064, bias=False)\n",
      ")\n"
     ]
    }
   ],
   "source": [
    "print(model)"
   ]
  },
  {
   "cell_type": "code",
   "execution_count": null,
   "metadata": {},
   "outputs": [],
   "source": []
  }
 ],
 "metadata": {
  "kernelspec": {
   "display_name": ".venv",
   "language": "python",
   "name": "python3"
  },
  "language_info": {
   "codemirror_mode": {
    "name": "ipython",
    "version": 3
   },
   "file_extension": ".py",
   "mimetype": "text/x-python",
   "name": "python",
   "nbconvert_exporter": "python",
   "pygments_lexer": "ipython3",
   "version": "3.12.0"
  }
 },
 "nbformat": 4,
 "nbformat_minor": 2
}
